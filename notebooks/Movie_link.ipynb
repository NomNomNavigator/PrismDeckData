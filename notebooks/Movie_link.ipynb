{
 "cells": [
  {
   "cell_type": "markdown",
   "id": "b53bb406-5188-4833-9952-b5531496b327",
   "metadata": {},
   "source": [
    "# Create a csv for movie_link table"
   ]
  },
  {
   "cell_type": "code",
   "execution_count": 3,
   "id": "5a2b2310-aa79-4955-88b2-3f25fb066c8c",
   "metadata": {},
   "outputs": [],
   "source": [
    "# Below ended up not being used. We decided against a seperate links table and this data is included in the movies table"
   ]
  },
  {
   "cell_type": "code",
   "execution_count": 4,
   "id": "7f0c9ebd-ee23-41de-88b3-c36700213f10",
   "metadata": {},
   "outputs": [],
   "source": [
    "import pandas as pd\n",
    "import numpy as np"
   ]
  },
  {
   "cell_type": "code",
   "execution_count": 5,
   "id": "f25d2020-925f-4db7-8f82-a154ebfe413b",
   "metadata": {},
   "outputs": [],
   "source": [
    "df = pd.read_csv('raw_data/links.csv', index_col = 0)"
   ]
  },
  {
   "cell_type": "code",
   "execution_count": 6,
   "id": "ff4abdb9-ff9e-44a3-be1f-60a2e139f129",
   "metadata": {},
   "outputs": [
    {
     "data": {
      "text/html": [
       "<div>\n",
       "<style scoped>\n",
       "    .dataframe tbody tr th:only-of-type {\n",
       "        vertical-align: middle;\n",
       "    }\n",
       "\n",
       "    .dataframe tbody tr th {\n",
       "        vertical-align: top;\n",
       "    }\n",
       "\n",
       "    .dataframe thead th {\n",
       "        text-align: right;\n",
       "    }\n",
       "</style>\n",
       "<table border=\"1\" class=\"dataframe\">\n",
       "  <thead>\n",
       "    <tr style=\"text-align: right;\">\n",
       "      <th></th>\n",
       "      <th>imdbId</th>\n",
       "      <th>tmdbId</th>\n",
       "    </tr>\n",
       "    <tr>\n",
       "      <th>movieId</th>\n",
       "      <th></th>\n",
       "      <th></th>\n",
       "    </tr>\n",
       "  </thead>\n",
       "  <tbody>\n",
       "    <tr>\n",
       "      <th>1</th>\n",
       "      <td>114709</td>\n",
       "      <td>862.0</td>\n",
       "    </tr>\n",
       "    <tr>\n",
       "      <th>2</th>\n",
       "      <td>113497</td>\n",
       "      <td>8844.0</td>\n",
       "    </tr>\n",
       "    <tr>\n",
       "      <th>3</th>\n",
       "      <td>113228</td>\n",
       "      <td>15602.0</td>\n",
       "    </tr>\n",
       "    <tr>\n",
       "      <th>4</th>\n",
       "      <td>114885</td>\n",
       "      <td>31357.0</td>\n",
       "    </tr>\n",
       "    <tr>\n",
       "      <th>5</th>\n",
       "      <td>113041</td>\n",
       "      <td>11862.0</td>\n",
       "    </tr>\n",
       "    <tr>\n",
       "      <th>...</th>\n",
       "      <td>...</td>\n",
       "      <td>...</td>\n",
       "    </tr>\n",
       "    <tr>\n",
       "      <th>288967</th>\n",
       "      <td>14418234</td>\n",
       "      <td>845861.0</td>\n",
       "    </tr>\n",
       "    <tr>\n",
       "      <th>288971</th>\n",
       "      <td>11162178</td>\n",
       "      <td>878958.0</td>\n",
       "    </tr>\n",
       "    <tr>\n",
       "      <th>288975</th>\n",
       "      <td>70199</td>\n",
       "      <td>150392.0</td>\n",
       "    </tr>\n",
       "    <tr>\n",
       "      <th>288977</th>\n",
       "      <td>23050520</td>\n",
       "      <td>1102551.0</td>\n",
       "    </tr>\n",
       "    <tr>\n",
       "      <th>288983</th>\n",
       "      <td>11644948</td>\n",
       "      <td>940588.0</td>\n",
       "    </tr>\n",
       "  </tbody>\n",
       "</table>\n",
       "<p>86537 rows × 2 columns</p>\n",
       "</div>"
      ],
      "text/plain": [
       "           imdbId     tmdbId\n",
       "movieId                     \n",
       "1          114709      862.0\n",
       "2          113497     8844.0\n",
       "3          113228    15602.0\n",
       "4          114885    31357.0\n",
       "5          113041    11862.0\n",
       "...           ...        ...\n",
       "288967   14418234   845861.0\n",
       "288971   11162178   878958.0\n",
       "288975      70199   150392.0\n",
       "288977   23050520  1102551.0\n",
       "288983   11644948   940588.0\n",
       "\n",
       "[86537 rows x 2 columns]"
      ]
     },
     "execution_count": 6,
     "metadata": {},
     "output_type": "execute_result"
    }
   ],
   "source": [
    "df"
   ]
  },
  {
   "cell_type": "code",
   "execution_count": 7,
   "id": "c134bab1-6d98-42f3-a1ed-7c7e04fa0742",
   "metadata": {},
   "outputs": [
    {
     "data": {
      "text/plain": [
       "imdbId      0\n",
       "tmdbId    126\n",
       "dtype: int64"
      ]
     },
     "execution_count": 7,
     "metadata": {},
     "output_type": "execute_result"
    }
   ],
   "source": [
    "df.isnull().sum()"
   ]
  },
  {
   "cell_type": "code",
   "execution_count": 8,
   "id": "8f2bdc8e-5dac-4308-84a8-c2ef784a2c27",
   "metadata": {},
   "outputs": [],
   "source": [
    "# fillna(0) not working as expected, it created another column\n",
    "df['tmdbId'] = df['tmdbId'].replace(np.nan, 0)"
   ]
  },
  {
   "cell_type": "code",
   "execution_count": 10,
   "id": "384b99b8-c30a-48ab-b54e-e1f84621c9bc",
   "metadata": {},
   "outputs": [
    {
     "data": {
      "text/html": [
       "<div>\n",
       "<style scoped>\n",
       "    .dataframe tbody tr th:only-of-type {\n",
       "        vertical-align: middle;\n",
       "    }\n",
       "\n",
       "    .dataframe tbody tr th {\n",
       "        vertical-align: top;\n",
       "    }\n",
       "\n",
       "    .dataframe thead th {\n",
       "        text-align: right;\n",
       "    }\n",
       "</style>\n",
       "<table border=\"1\" class=\"dataframe\">\n",
       "  <thead>\n",
       "    <tr style=\"text-align: right;\">\n",
       "      <th></th>\n",
       "      <th>imdbId</th>\n",
       "      <th>tmdbId</th>\n",
       "    </tr>\n",
       "    <tr>\n",
       "      <th>movieId</th>\n",
       "      <th></th>\n",
       "      <th></th>\n",
       "    </tr>\n",
       "  </thead>\n",
       "  <tbody>\n",
       "    <tr>\n",
       "      <th>1</th>\n",
       "      <td>114709</td>\n",
       "      <td>862.0</td>\n",
       "    </tr>\n",
       "    <tr>\n",
       "      <th>2</th>\n",
       "      <td>113497</td>\n",
       "      <td>8844.0</td>\n",
       "    </tr>\n",
       "    <tr>\n",
       "      <th>3</th>\n",
       "      <td>113228</td>\n",
       "      <td>15602.0</td>\n",
       "    </tr>\n",
       "    <tr>\n",
       "      <th>4</th>\n",
       "      <td>114885</td>\n",
       "      <td>31357.0</td>\n",
       "    </tr>\n",
       "    <tr>\n",
       "      <th>5</th>\n",
       "      <td>113041</td>\n",
       "      <td>11862.0</td>\n",
       "    </tr>\n",
       "    <tr>\n",
       "      <th>...</th>\n",
       "      <td>...</td>\n",
       "      <td>...</td>\n",
       "    </tr>\n",
       "    <tr>\n",
       "      <th>288967</th>\n",
       "      <td>14418234</td>\n",
       "      <td>845861.0</td>\n",
       "    </tr>\n",
       "    <tr>\n",
       "      <th>288971</th>\n",
       "      <td>11162178</td>\n",
       "      <td>878958.0</td>\n",
       "    </tr>\n",
       "    <tr>\n",
       "      <th>288975</th>\n",
       "      <td>70199</td>\n",
       "      <td>150392.0</td>\n",
       "    </tr>\n",
       "    <tr>\n",
       "      <th>288977</th>\n",
       "      <td>23050520</td>\n",
       "      <td>1102551.0</td>\n",
       "    </tr>\n",
       "    <tr>\n",
       "      <th>288983</th>\n",
       "      <td>11644948</td>\n",
       "      <td>940588.0</td>\n",
       "    </tr>\n",
       "  </tbody>\n",
       "</table>\n",
       "<p>86537 rows × 2 columns</p>\n",
       "</div>"
      ],
      "text/plain": [
       "           imdbId     tmdbId\n",
       "movieId                     \n",
       "1          114709      862.0\n",
       "2          113497     8844.0\n",
       "3          113228    15602.0\n",
       "4          114885    31357.0\n",
       "5          113041    11862.0\n",
       "...           ...        ...\n",
       "288967   14418234   845861.0\n",
       "288971   11162178   878958.0\n",
       "288975      70199   150392.0\n",
       "288977   23050520  1102551.0\n",
       "288983   11644948   940588.0\n",
       "\n",
       "[86537 rows x 2 columns]"
      ]
     },
     "execution_count": 10,
     "metadata": {},
     "output_type": "execute_result"
    }
   ],
   "source": [
    "df"
   ]
  },
  {
   "cell_type": "code",
   "execution_count": 11,
   "id": "27cc026f-74d5-4238-9818-86fcf8dd53fa",
   "metadata": {},
   "outputs": [
    {
     "data": {
      "text/plain": [
       "imdbId    0\n",
       "tmdbId    0\n",
       "dtype: int64"
      ]
     },
     "execution_count": 11,
     "metadata": {},
     "output_type": "execute_result"
    }
   ],
   "source": [
    "df.isnull().sum()"
   ]
  },
  {
   "cell_type": "code",
   "execution_count": 35,
   "id": "631bd29b-c880-4713-b257-2cad4cc23b47",
   "metadata": {},
   "outputs": [],
   "source": [
    "# Uncomment if needed to write the csv\n",
    "#df.to_csv('DB_models/DB_links.csv')"
   ]
  },
  {
   "cell_type": "code",
   "execution_count": null,
   "id": "a53e39af-fc0a-4bd3-aa8d-cc0f4e9c8712",
   "metadata": {},
   "outputs": [],
   "source": []
  },
  {
   "cell_type": "markdown",
   "id": "132d6280-5ee4-462f-81c6-09300c179950",
   "metadata": {},
   "source": []
  }
 ],
 "metadata": {
  "kernelspec": {
   "display_name": "Python 3 (ipykernel)",
   "language": "python",
   "name": "python3"
  },
  "language_info": {
   "codemirror_mode": {
    "name": "ipython",
    "version": 3
   },
   "file_extension": ".py",
   "mimetype": "text/x-python",
   "name": "python",
   "nbconvert_exporter": "python",
   "pygments_lexer": "ipython3",
   "version": "3.12.1"
  }
 },
 "nbformat": 4,
 "nbformat_minor": 5
}
