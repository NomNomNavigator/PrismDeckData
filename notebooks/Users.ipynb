{
 "cells": [
  {
   "cell_type": "markdown",
   "id": "b94afcd9-0fa3-4d33-807e-987e959e1a13",
   "metadata": {},
   "source": [
    "# Create users csv "
   ]
  },
  {
   "cell_type": "code",
   "execution_count": 59,
   "id": "c2e4a660-2c3e-43c4-a546-28a50340a14c",
   "metadata": {},
   "outputs": [],
   "source": [
    "import pandas as pd"
   ]
  },
  {
   "cell_type": "code",
   "execution_count": 60,
   "id": "95eb98e1-d212-4551-875b-dc805fd6057e",
   "metadata": {},
   "outputs": [],
   "source": [
    "# We need both tags and ratings to get a comprehensive set of users. Some users may have rated and not tagged, or vice versa\n",
    "# Reading in just the userId from both csvs\n",
    "\n",
    "column_name = 'userId' \n",
    "\n",
    "df1 = pd.read_csv('raw_data/tags.csv', usecols=[column_name])\n",
    "df2 = pd.read_csv('raw_data/ratings.csv', usecols=[column_name])"
   ]
  },
  {
   "cell_type": "code",
   "execution_count": 61,
   "id": "e5e35e4d-6de3-44f1-9cd1-2acb290f2255",
   "metadata": {},
   "outputs": [
    {
     "data": {
      "text/html": [
       "<div>\n",
       "<style scoped>\n",
       "    .dataframe tbody tr th:only-of-type {\n",
       "        vertical-align: middle;\n",
       "    }\n",
       "\n",
       "    .dataframe tbody tr th {\n",
       "        vertical-align: top;\n",
       "    }\n",
       "\n",
       "    .dataframe thead th {\n",
       "        text-align: right;\n",
       "    }\n",
       "</style>\n",
       "<table border=\"1\" class=\"dataframe\">\n",
       "  <thead>\n",
       "    <tr style=\"text-align: right;\">\n",
       "      <th></th>\n",
       "      <th>userId</th>\n",
       "    </tr>\n",
       "  </thead>\n",
       "  <tbody>\n",
       "    <tr>\n",
       "      <th>0</th>\n",
       "      <td>10</td>\n",
       "    </tr>\n",
       "    <tr>\n",
       "      <th>1</th>\n",
       "      <td>10</td>\n",
       "    </tr>\n",
       "    <tr>\n",
       "      <th>2</th>\n",
       "      <td>10</td>\n",
       "    </tr>\n",
       "    <tr>\n",
       "      <th>3</th>\n",
       "      <td>14</td>\n",
       "    </tr>\n",
       "    <tr>\n",
       "      <th>4</th>\n",
       "      <td>14</td>\n",
       "    </tr>\n",
       "    <tr>\n",
       "      <th>...</th>\n",
       "      <td>...</td>\n",
       "    </tr>\n",
       "    <tr>\n",
       "      <th>2328310</th>\n",
       "      <td>330923</td>\n",
       "    </tr>\n",
       "    <tr>\n",
       "      <th>2328311</th>\n",
       "      <td>330933</td>\n",
       "    </tr>\n",
       "    <tr>\n",
       "      <th>2328312</th>\n",
       "      <td>330933</td>\n",
       "    </tr>\n",
       "    <tr>\n",
       "      <th>2328313</th>\n",
       "      <td>330947</td>\n",
       "    </tr>\n",
       "    <tr>\n",
       "      <th>2328314</th>\n",
       "      <td>330947</td>\n",
       "    </tr>\n",
       "  </tbody>\n",
       "</table>\n",
       "<p>2328315 rows × 1 columns</p>\n",
       "</div>"
      ],
      "text/plain": [
       "         userId\n",
       "0            10\n",
       "1            10\n",
       "2            10\n",
       "3            14\n",
       "4            14\n",
       "...         ...\n",
       "2328310  330923\n",
       "2328311  330933\n",
       "2328312  330933\n",
       "2328313  330947\n",
       "2328314  330947\n",
       "\n",
       "[2328315 rows x 1 columns]"
      ]
     },
     "execution_count": 61,
     "metadata": {},
     "output_type": "execute_result"
    }
   ],
   "source": [
    "df1"
   ]
  },
  {
   "cell_type": "code",
   "execution_count": 62,
   "id": "c139dd72-57c1-4af8-9224-e18ab04d43b2",
   "metadata": {},
   "outputs": [
    {
     "data": {
      "text/html": [
       "<div>\n",
       "<style scoped>\n",
       "    .dataframe tbody tr th:only-of-type {\n",
       "        vertical-align: middle;\n",
       "    }\n",
       "\n",
       "    .dataframe tbody tr th {\n",
       "        vertical-align: top;\n",
       "    }\n",
       "\n",
       "    .dataframe thead th {\n",
       "        text-align: right;\n",
       "    }\n",
       "</style>\n",
       "<table border=\"1\" class=\"dataframe\">\n",
       "  <thead>\n",
       "    <tr style=\"text-align: right;\">\n",
       "      <th></th>\n",
       "      <th>userId</th>\n",
       "    </tr>\n",
       "  </thead>\n",
       "  <tbody>\n",
       "    <tr>\n",
       "      <th>0</th>\n",
       "      <td>1</td>\n",
       "    </tr>\n",
       "    <tr>\n",
       "      <th>1</th>\n",
       "      <td>1</td>\n",
       "    </tr>\n",
       "    <tr>\n",
       "      <th>2</th>\n",
       "      <td>1</td>\n",
       "    </tr>\n",
       "    <tr>\n",
       "      <th>3</th>\n",
       "      <td>1</td>\n",
       "    </tr>\n",
       "    <tr>\n",
       "      <th>4</th>\n",
       "      <td>1</td>\n",
       "    </tr>\n",
       "    <tr>\n",
       "      <th>...</th>\n",
       "      <td>...</td>\n",
       "    </tr>\n",
       "    <tr>\n",
       "      <th>33832157</th>\n",
       "      <td>330975</td>\n",
       "    </tr>\n",
       "    <tr>\n",
       "      <th>33832158</th>\n",
       "      <td>330975</td>\n",
       "    </tr>\n",
       "    <tr>\n",
       "      <th>33832159</th>\n",
       "      <td>330975</td>\n",
       "    </tr>\n",
       "    <tr>\n",
       "      <th>33832160</th>\n",
       "      <td>330975</td>\n",
       "    </tr>\n",
       "    <tr>\n",
       "      <th>33832161</th>\n",
       "      <td>330975</td>\n",
       "    </tr>\n",
       "  </tbody>\n",
       "</table>\n",
       "<p>33832162 rows × 1 columns</p>\n",
       "</div>"
      ],
      "text/plain": [
       "          userId\n",
       "0              1\n",
       "1              1\n",
       "2              1\n",
       "3              1\n",
       "4              1\n",
       "...          ...\n",
       "33832157  330975\n",
       "33832158  330975\n",
       "33832159  330975\n",
       "33832160  330975\n",
       "33832161  330975\n",
       "\n",
       "[33832162 rows x 1 columns]"
      ]
     },
     "execution_count": 62,
     "metadata": {},
     "output_type": "execute_result"
    }
   ],
   "source": [
    "df2"
   ]
  },
  {
   "cell_type": "code",
   "execution_count": 64,
   "id": "8cc7efb3-f5a8-4c3f-b941-eebc69f60143",
   "metadata": {},
   "outputs": [],
   "source": [
    "# Create one df \n",
    "df_combined = pd.concat([df1, df2], ignore_index=True)"
   ]
  },
  {
   "cell_type": "code",
   "execution_count": 65,
   "id": "44d1990c-8f7f-4ca3-9126-a0beb2fa95d9",
   "metadata": {},
   "outputs": [],
   "source": [
    "# Sort by id\n",
    "df_combined = df_combined.sort_values(by=['userId'])"
   ]
  },
  {
   "cell_type": "code",
   "execution_count": 71,
   "id": "17e05628-8861-4079-a900-e81fa5f2830d",
   "metadata": {},
   "outputs": [],
   "source": [
    "# Get array of only the unique values\n",
    "uniqueId=df_combined['userId'].unique()"
   ]
  },
  {
   "cell_type": "code",
   "execution_count": 75,
   "id": "8bab5ae2-bc7d-4116-a591-b93600704f97",
   "metadata": {},
   "outputs": [],
   "source": [
    "# Create df, name column id to match database\n",
    "result_df = pd.DataFrame({'id': uniqueId})"
   ]
  },
  {
   "cell_type": "code",
   "execution_count": 76,
   "id": "62a1ad7c-771c-4b8e-b1e7-7fab521f9baa",
   "metadata": {},
   "outputs": [
    {
     "data": {
      "text/html": [
       "<div>\n",
       "<style scoped>\n",
       "    .dataframe tbody tr th:only-of-type {\n",
       "        vertical-align: middle;\n",
       "    }\n",
       "\n",
       "    .dataframe tbody tr th {\n",
       "        vertical-align: top;\n",
       "    }\n",
       "\n",
       "    .dataframe thead th {\n",
       "        text-align: right;\n",
       "    }\n",
       "</style>\n",
       "<table border=\"1\" class=\"dataframe\">\n",
       "  <thead>\n",
       "    <tr style=\"text-align: right;\">\n",
       "      <th></th>\n",
       "      <th>id</th>\n",
       "    </tr>\n",
       "  </thead>\n",
       "  <tbody>\n",
       "    <tr>\n",
       "      <th>0</th>\n",
       "      <td>1</td>\n",
       "    </tr>\n",
       "    <tr>\n",
       "      <th>1</th>\n",
       "      <td>2</td>\n",
       "    </tr>\n",
       "    <tr>\n",
       "      <th>2</th>\n",
       "      <td>3</td>\n",
       "    </tr>\n",
       "    <tr>\n",
       "      <th>3</th>\n",
       "      <td>4</td>\n",
       "    </tr>\n",
       "    <tr>\n",
       "      <th>4</th>\n",
       "      <td>5</td>\n",
       "    </tr>\n",
       "    <tr>\n",
       "      <th>...</th>\n",
       "      <td>...</td>\n",
       "    </tr>\n",
       "    <tr>\n",
       "      <th>330970</th>\n",
       "      <td>330971</td>\n",
       "    </tr>\n",
       "    <tr>\n",
       "      <th>330971</th>\n",
       "      <td>330972</td>\n",
       "    </tr>\n",
       "    <tr>\n",
       "      <th>330972</th>\n",
       "      <td>330973</td>\n",
       "    </tr>\n",
       "    <tr>\n",
       "      <th>330973</th>\n",
       "      <td>330974</td>\n",
       "    </tr>\n",
       "    <tr>\n",
       "      <th>330974</th>\n",
       "      <td>330975</td>\n",
       "    </tr>\n",
       "  </tbody>\n",
       "</table>\n",
       "<p>330975 rows × 1 columns</p>\n",
       "</div>"
      ],
      "text/plain": [
       "            id\n",
       "0            1\n",
       "1            2\n",
       "2            3\n",
       "3            4\n",
       "4            5\n",
       "...        ...\n",
       "330970  330971\n",
       "330971  330972\n",
       "330972  330973\n",
       "330973  330974\n",
       "330974  330975\n",
       "\n",
       "[330975 rows x 1 columns]"
      ]
     },
     "execution_count": 76,
     "metadata": {},
     "output_type": "execute_result"
    }
   ],
   "source": [
    "result_df"
   ]
  },
  {
   "cell_type": "code",
   "execution_count": 77,
   "id": "e73b23a8-febc-41e0-b073-2f9e9c17231a",
   "metadata": {},
   "outputs": [],
   "source": [
    "result_df.to_csv('DB_models/DB_user.csv', index=False)"
   ]
  },
  {
   "cell_type": "code",
   "execution_count": null,
   "id": "fc391bef-197f-4253-bea0-ae7b2a2457a8",
   "metadata": {},
   "outputs": [],
   "source": []
  }
 ],
 "metadata": {
  "kernelspec": {
   "display_name": "Python 3 (ipykernel)",
   "language": "python",
   "name": "python3"
  },
  "language_info": {
   "codemirror_mode": {
    "name": "ipython",
    "version": 3
   },
   "file_extension": ".py",
   "mimetype": "text/x-python",
   "name": "python",
   "nbconvert_exporter": "python",
   "pygments_lexer": "ipython3",
   "version": "3.12.1"
  }
 },
 "nbformat": 4,
 "nbformat_minor": 5
}
