{
 "cells": [
  {
   "cell_type": "markdown",
   "id": "06ea7ec7-31ae-4f93-9d39-233dc2d2d5f4",
   "metadata": {},
   "source": [
    "# Users"
   ]
  },
  {
   "cell_type": "code",
   "execution_count": 20,
   "id": "c2e4a660-2c3e-43c4-a546-28a50340a14c",
   "metadata": {},
   "outputs": [],
   "source": [
    "import pandas as pd"
   ]
  },
  {
   "cell_type": "code",
   "execution_count": 21,
   "id": "95eb98e1-d212-4551-875b-dc805fd6057e",
   "metadata": {},
   "outputs": [],
   "source": [
    "df = pd.read_csv('raw_data/tags.csv')"
   ]
  },
  {
   "cell_type": "code",
   "execution_count": 22,
   "id": "e5e35e4d-6de3-44f1-9cd1-2acb290f2255",
   "metadata": {},
   "outputs": [
    {
     "data": {
      "text/html": [
       "<div>\n",
       "<style scoped>\n",
       "    .dataframe tbody tr th:only-of-type {\n",
       "        vertical-align: middle;\n",
       "    }\n",
       "\n",
       "    .dataframe tbody tr th {\n",
       "        vertical-align: top;\n",
       "    }\n",
       "\n",
       "    .dataframe thead th {\n",
       "        text-align: right;\n",
       "    }\n",
       "</style>\n",
       "<table border=\"1\" class=\"dataframe\">\n",
       "  <thead>\n",
       "    <tr style=\"text-align: right;\">\n",
       "      <th></th>\n",
       "      <th>userId</th>\n",
       "      <th>movieId</th>\n",
       "      <th>tag</th>\n",
       "      <th>timestamp</th>\n",
       "    </tr>\n",
       "  </thead>\n",
       "  <tbody>\n",
       "    <tr>\n",
       "      <th>0</th>\n",
       "      <td>10</td>\n",
       "      <td>260</td>\n",
       "      <td>good vs evil</td>\n",
       "      <td>1430666558</td>\n",
       "    </tr>\n",
       "    <tr>\n",
       "      <th>1</th>\n",
       "      <td>10</td>\n",
       "      <td>260</td>\n",
       "      <td>Harrison Ford</td>\n",
       "      <td>1430666505</td>\n",
       "    </tr>\n",
       "    <tr>\n",
       "      <th>2</th>\n",
       "      <td>10</td>\n",
       "      <td>260</td>\n",
       "      <td>sci-fi</td>\n",
       "      <td>1430666538</td>\n",
       "    </tr>\n",
       "    <tr>\n",
       "      <th>3</th>\n",
       "      <td>14</td>\n",
       "      <td>1221</td>\n",
       "      <td>Al Pacino</td>\n",
       "      <td>1311600756</td>\n",
       "    </tr>\n",
       "    <tr>\n",
       "      <th>4</th>\n",
       "      <td>14</td>\n",
       "      <td>1221</td>\n",
       "      <td>mafia</td>\n",
       "      <td>1311600746</td>\n",
       "    </tr>\n",
       "    <tr>\n",
       "      <th>...</th>\n",
       "      <td>...</td>\n",
       "      <td>...</td>\n",
       "      <td>...</td>\n",
       "      <td>...</td>\n",
       "    </tr>\n",
       "    <tr>\n",
       "      <th>2328310</th>\n",
       "      <td>330923</td>\n",
       "      <td>176599</td>\n",
       "      <td>politically correct</td>\n",
       "      <td>1507547491</td>\n",
       "    </tr>\n",
       "    <tr>\n",
       "      <th>2328311</th>\n",
       "      <td>330933</td>\n",
       "      <td>3317</td>\n",
       "      <td>coming of age</td>\n",
       "      <td>1351279384</td>\n",
       "    </tr>\n",
       "    <tr>\n",
       "      <th>2328312</th>\n",
       "      <td>330933</td>\n",
       "      <td>3317</td>\n",
       "      <td>sexuality</td>\n",
       "      <td>1351279389</td>\n",
       "    </tr>\n",
       "    <tr>\n",
       "      <th>2328313</th>\n",
       "      <td>330947</td>\n",
       "      <td>5782</td>\n",
       "      <td>Not Luc Besson</td>\n",
       "      <td>1154110902</td>\n",
       "    </tr>\n",
       "    <tr>\n",
       "      <th>2328314</th>\n",
       "      <td>330947</td>\n",
       "      <td>44191</td>\n",
       "      <td>comic book</td>\n",
       "      <td>1154271525</td>\n",
       "    </tr>\n",
       "  </tbody>\n",
       "</table>\n",
       "<p>2328315 rows × 4 columns</p>\n",
       "</div>"
      ],
      "text/plain": [
       "         userId  movieId                  tag   timestamp\n",
       "0            10      260         good vs evil  1430666558\n",
       "1            10      260        Harrison Ford  1430666505\n",
       "2            10      260               sci-fi  1430666538\n",
       "3            14     1221            Al Pacino  1311600756\n",
       "4            14     1221                mafia  1311600746\n",
       "...         ...      ...                  ...         ...\n",
       "2328310  330923   176599  politically correct  1507547491\n",
       "2328311  330933     3317        coming of age  1351279384\n",
       "2328312  330933     3317            sexuality  1351279389\n",
       "2328313  330947     5782       Not Luc Besson  1154110902\n",
       "2328314  330947    44191           comic book  1154271525\n",
       "\n",
       "[2328315 rows x 4 columns]"
      ]
     },
     "execution_count": 22,
     "metadata": {},
     "output_type": "execute_result"
    }
   ],
   "source": [
    "df"
   ]
  },
  {
   "cell_type": "code",
   "execution_count": 23,
   "id": "f3fe1ec2-acc9-4698-a434-5e581108b378",
   "metadata": {},
   "outputs": [],
   "source": [
    "userIds = df['userId'].unique()"
   ]
  },
  {
   "cell_type": "code",
   "execution_count": 28,
   "id": "5a3989fd-67d8-412a-a9fe-4d0c0b0f5f80",
   "metadata": {},
   "outputs": [],
   "source": [
    "df_users = pd.DataFrame({'id': userIds})"
   ]
  },
  {
   "cell_type": "code",
   "execution_count": 30,
   "id": "878b3a38-acb2-4901-9c24-4dcb07e3834c",
   "metadata": {},
   "outputs": [
    {
     "data": {
      "text/html": [
       "<div>\n",
       "<style scoped>\n",
       "    .dataframe tbody tr th:only-of-type {\n",
       "        vertical-align: middle;\n",
       "    }\n",
       "\n",
       "    .dataframe tbody tr th {\n",
       "        vertical-align: top;\n",
       "    }\n",
       "\n",
       "    .dataframe thead th {\n",
       "        text-align: right;\n",
       "    }\n",
       "</style>\n",
       "<table border=\"1\" class=\"dataframe\">\n",
       "  <thead>\n",
       "    <tr style=\"text-align: right;\">\n",
       "      <th></th>\n",
       "      <th>id</th>\n",
       "    </tr>\n",
       "  </thead>\n",
       "  <tbody>\n",
       "    <tr>\n",
       "      <th>0</th>\n",
       "      <td>10</td>\n",
       "    </tr>\n",
       "    <tr>\n",
       "      <th>1</th>\n",
       "      <td>14</td>\n",
       "    </tr>\n",
       "    <tr>\n",
       "      <th>2</th>\n",
       "      <td>16</td>\n",
       "    </tr>\n",
       "    <tr>\n",
       "      <th>3</th>\n",
       "      <td>26</td>\n",
       "    </tr>\n",
       "    <tr>\n",
       "      <th>4</th>\n",
       "      <td>37</td>\n",
       "    </tr>\n",
       "    <tr>\n",
       "      <th>...</th>\n",
       "      <td>...</td>\n",
       "    </tr>\n",
       "    <tr>\n",
       "      <th>25275</th>\n",
       "      <td>330911</td>\n",
       "    </tr>\n",
       "    <tr>\n",
       "      <th>25276</th>\n",
       "      <td>330914</td>\n",
       "    </tr>\n",
       "    <tr>\n",
       "      <th>25277</th>\n",
       "      <td>330923</td>\n",
       "    </tr>\n",
       "    <tr>\n",
       "      <th>25278</th>\n",
       "      <td>330933</td>\n",
       "    </tr>\n",
       "    <tr>\n",
       "      <th>25279</th>\n",
       "      <td>330947</td>\n",
       "    </tr>\n",
       "  </tbody>\n",
       "</table>\n",
       "<p>25280 rows × 1 columns</p>\n",
       "</div>"
      ],
      "text/plain": [
       "           id\n",
       "0          10\n",
       "1          14\n",
       "2          16\n",
       "3          26\n",
       "4          37\n",
       "...       ...\n",
       "25275  330911\n",
       "25276  330914\n",
       "25277  330923\n",
       "25278  330933\n",
       "25279  330947\n",
       "\n",
       "[25280 rows x 1 columns]"
      ]
     },
     "execution_count": 30,
     "metadata": {},
     "output_type": "execute_result"
    }
   ],
   "source": [
    "df_users"
   ]
  },
  {
   "cell_type": "code",
   "execution_count": 29,
   "id": "e73b23a8-febc-41e0-b073-2f9e9c17231a",
   "metadata": {},
   "outputs": [],
   "source": [
    "df_users.to_csv('DB_models/DB_user.csv', index=False)"
   ]
  },
  {
   "cell_type": "code",
   "execution_count": null,
   "id": "fc391bef-197f-4253-bea0-ae7b2a2457a8",
   "metadata": {},
   "outputs": [],
   "source": []
  }
 ],
 "metadata": {
  "kernelspec": {
   "display_name": "Python 3 (ipykernel)",
   "language": "python",
   "name": "python3"
  },
  "language_info": {
   "codemirror_mode": {
    "name": "ipython",
    "version": 3
   },
   "file_extension": ".py",
   "mimetype": "text/x-python",
   "name": "python",
   "nbconvert_exporter": "python",
   "pygments_lexer": "ipython3",
   "version": "3.12.1"
  }
 },
 "nbformat": 4,
 "nbformat_minor": 5
}
