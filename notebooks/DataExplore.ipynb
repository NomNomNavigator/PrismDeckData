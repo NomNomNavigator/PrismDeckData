{
 "cells": [
  {
   "cell_type": "markdown",
   "id": "d882e962-69a5-42c6-bdd0-08718ab19bdf",
   "metadata": {},
   "source": [
    "# Explore and clean movie data"
   ]
  },
  {
   "cell_type": "code",
   "execution_count": 13,
   "id": "ddec94b4-d937-48c1-8392-7cd6855b425e",
   "metadata": {},
   "outputs": [],
   "source": [
    "import pandas as pd"
   ]
  },
  {
   "cell_type": "markdown",
   "id": "209e8460-496d-49a4-8129-21d65e6ed25f",
   "metadata": {},
   "source": [
    "## movies.csv"
   ]
  },
  {
   "cell_type": "code",
   "execution_count": 14,
   "id": "018b12f2-e41e-46ed-94f5-ca062c804e76",
   "metadata": {},
   "outputs": [],
   "source": [
    "df_movies = pd.read_csv('movies.csv')"
   ]
  },
  {
   "cell_type": "code",
   "execution_count": 15,
   "id": "7f32d5ab-1adc-4332-a685-19f1a2df64d9",
   "metadata": {},
   "outputs": [
    {
     "data": {
      "text/html": [
       "<div>\n",
       "<style scoped>\n",
       "    .dataframe tbody tr th:only-of-type {\n",
       "        vertical-align: middle;\n",
       "    }\n",
       "\n",
       "    .dataframe tbody tr th {\n",
       "        vertical-align: top;\n",
       "    }\n",
       "\n",
       "    .dataframe thead th {\n",
       "        text-align: right;\n",
       "    }\n",
       "</style>\n",
       "<table border=\"1\" class=\"dataframe\">\n",
       "  <thead>\n",
       "    <tr style=\"text-align: right;\">\n",
       "      <th></th>\n",
       "      <th>movieId</th>\n",
       "      <th>title</th>\n",
       "      <th>genres</th>\n",
       "    </tr>\n",
       "  </thead>\n",
       "  <tbody>\n",
       "    <tr>\n",
       "      <th>0</th>\n",
       "      <td>1</td>\n",
       "      <td>Toy Story (1995)</td>\n",
       "      <td>Adventure|Animation|Children|Comedy|Fantasy</td>\n",
       "    </tr>\n",
       "    <tr>\n",
       "      <th>1</th>\n",
       "      <td>2</td>\n",
       "      <td>Jumanji (1995)</td>\n",
       "      <td>Adventure|Children|Fantasy</td>\n",
       "    </tr>\n",
       "    <tr>\n",
       "      <th>2</th>\n",
       "      <td>3</td>\n",
       "      <td>Grumpier Old Men (1995)</td>\n",
       "      <td>Comedy|Romance</td>\n",
       "    </tr>\n",
       "    <tr>\n",
       "      <th>3</th>\n",
       "      <td>4</td>\n",
       "      <td>Waiting to Exhale (1995)</td>\n",
       "      <td>Comedy|Drama|Romance</td>\n",
       "    </tr>\n",
       "    <tr>\n",
       "      <th>4</th>\n",
       "      <td>5</td>\n",
       "      <td>Father of the Bride Part II (1995)</td>\n",
       "      <td>Comedy</td>\n",
       "    </tr>\n",
       "    <tr>\n",
       "      <th>...</th>\n",
       "      <td>...</td>\n",
       "      <td>...</td>\n",
       "      <td>...</td>\n",
       "    </tr>\n",
       "    <tr>\n",
       "      <th>86532</th>\n",
       "      <td>288967</td>\n",
       "      <td>State of Siege: Temple Attack (2021)</td>\n",
       "      <td>Action|Drama</td>\n",
       "    </tr>\n",
       "    <tr>\n",
       "      <th>86533</th>\n",
       "      <td>288971</td>\n",
       "      <td>Ouija Japan (2021)</td>\n",
       "      <td>Action|Horror</td>\n",
       "    </tr>\n",
       "    <tr>\n",
       "      <th>86534</th>\n",
       "      <td>288975</td>\n",
       "      <td>The Men Who Made the Movies: Howard Hawks (1973)</td>\n",
       "      <td>Documentary</td>\n",
       "    </tr>\n",
       "    <tr>\n",
       "      <th>86535</th>\n",
       "      <td>288977</td>\n",
       "      <td>Skinford: Death Sentence (2023)</td>\n",
       "      <td>Crime|Thriller</td>\n",
       "    </tr>\n",
       "    <tr>\n",
       "      <th>86536</th>\n",
       "      <td>288983</td>\n",
       "      <td>UNZIPPED: An Autopsy of American Inequality (2...</td>\n",
       "      <td>Documentary</td>\n",
       "    </tr>\n",
       "  </tbody>\n",
       "</table>\n",
       "<p>86537 rows × 3 columns</p>\n",
       "</div>"
      ],
      "text/plain": [
       "       movieId                                              title  \\\n",
       "0            1                                   Toy Story (1995)   \n",
       "1            2                                     Jumanji (1995)   \n",
       "2            3                            Grumpier Old Men (1995)   \n",
       "3            4                           Waiting to Exhale (1995)   \n",
       "4            5                 Father of the Bride Part II (1995)   \n",
       "...        ...                                                ...   \n",
       "86532   288967               State of Siege: Temple Attack (2021)   \n",
       "86533   288971                                 Ouija Japan (2021)   \n",
       "86534   288975   The Men Who Made the Movies: Howard Hawks (1973)   \n",
       "86535   288977                    Skinford: Death Sentence (2023)   \n",
       "86536   288983  UNZIPPED: An Autopsy of American Inequality (2...   \n",
       "\n",
       "                                            genres  \n",
       "0      Adventure|Animation|Children|Comedy|Fantasy  \n",
       "1                       Adventure|Children|Fantasy  \n",
       "2                                   Comedy|Romance  \n",
       "3                             Comedy|Drama|Romance  \n",
       "4                                           Comedy  \n",
       "...                                            ...  \n",
       "86532                                 Action|Drama  \n",
       "86533                                Action|Horror  \n",
       "86534                                  Documentary  \n",
       "86535                               Crime|Thriller  \n",
       "86536                                  Documentary  \n",
       "\n",
       "[86537 rows x 3 columns]"
      ]
     },
     "execution_count": 15,
     "metadata": {},
     "output_type": "execute_result"
    }
   ],
   "source": [
    "df_movies"
   ]
  },
  {
   "cell_type": "code",
   "execution_count": 16,
   "id": "4d2e90a3-d227-4ebe-82b2-51ed2f0956b1",
   "metadata": {},
   "outputs": [
    {
     "data": {
      "text/plain": [
       "movieId     int64\n",
       "title      object\n",
       "genres     object\n",
       "dtype: object"
      ]
     },
     "execution_count": 16,
     "metadata": {},
     "output_type": "execute_result"
    }
   ],
   "source": [
    "df_movies.dtypes"
   ]
  },
  {
   "cell_type": "code",
   "execution_count": 17,
   "id": "b554164d-a04d-4796-bd66-a3bc7655c7fb",
   "metadata": {},
   "outputs": [
    {
     "data": {
      "text/plain": [
       "86537"
      ]
     },
     "execution_count": 17,
     "metadata": {},
     "output_type": "execute_result"
    }
   ],
   "source": [
    "# Verify movieId is unique\n",
    "len(df_movies.movieId.unique())"
   ]
  },
  {
   "cell_type": "code",
   "execution_count": 18,
   "id": "6403f081-6b81-4e6f-a8fd-f9fad1cf98c1",
   "metadata": {},
   "outputs": [
    {
     "data": {
      "text/plain": [
       "movieId    0\n",
       "title      0\n",
       "genres     0\n",
       "dtype: int64"
      ]
     },
     "execution_count": 18,
     "metadata": {},
     "output_type": "execute_result"
    }
   ],
   "source": [
    "# Check for any null data\n",
    "df_movies.isnull().sum()"
   ]
  },
  {
   "cell_type": "code",
   "execution_count": 19,
   "id": "a03bbd0d-e955-442d-ba8b-faa5b5408bc5",
   "metadata": {},
   "outputs": [],
   "source": [
    "df_movies.set_index('movieId', inplace=True)"
   ]
  },
  {
   "cell_type": "code",
   "execution_count": 20,
   "id": "c054eb93-46d3-4f77-9c60-d652a9d9e7d9",
   "metadata": {},
   "outputs": [
    {
     "data": {
      "text/html": [
       "<div>\n",
       "<style scoped>\n",
       "    .dataframe tbody tr th:only-of-type {\n",
       "        vertical-align: middle;\n",
       "    }\n",
       "\n",
       "    .dataframe tbody tr th {\n",
       "        vertical-align: top;\n",
       "    }\n",
       "\n",
       "    .dataframe thead th {\n",
       "        text-align: right;\n",
       "    }\n",
       "</style>\n",
       "<table border=\"1\" class=\"dataframe\">\n",
       "  <thead>\n",
       "    <tr style=\"text-align: right;\">\n",
       "      <th></th>\n",
       "      <th>title</th>\n",
       "      <th>genres</th>\n",
       "    </tr>\n",
       "    <tr>\n",
       "      <th>movieId</th>\n",
       "      <th></th>\n",
       "      <th></th>\n",
       "    </tr>\n",
       "  </thead>\n",
       "  <tbody>\n",
       "    <tr>\n",
       "      <th>1</th>\n",
       "      <td>Toy Story (1995)</td>\n",
       "      <td>Adventure|Animation|Children|Comedy|Fantasy</td>\n",
       "    </tr>\n",
       "    <tr>\n",
       "      <th>2</th>\n",
       "      <td>Jumanji (1995)</td>\n",
       "      <td>Adventure|Children|Fantasy</td>\n",
       "    </tr>\n",
       "    <tr>\n",
       "      <th>3</th>\n",
       "      <td>Grumpier Old Men (1995)</td>\n",
       "      <td>Comedy|Romance</td>\n",
       "    </tr>\n",
       "    <tr>\n",
       "      <th>4</th>\n",
       "      <td>Waiting to Exhale (1995)</td>\n",
       "      <td>Comedy|Drama|Romance</td>\n",
       "    </tr>\n",
       "    <tr>\n",
       "      <th>5</th>\n",
       "      <td>Father of the Bride Part II (1995)</td>\n",
       "      <td>Comedy</td>\n",
       "    </tr>\n",
       "    <tr>\n",
       "      <th>...</th>\n",
       "      <td>...</td>\n",
       "      <td>...</td>\n",
       "    </tr>\n",
       "    <tr>\n",
       "      <th>288967</th>\n",
       "      <td>State of Siege: Temple Attack (2021)</td>\n",
       "      <td>Action|Drama</td>\n",
       "    </tr>\n",
       "    <tr>\n",
       "      <th>288971</th>\n",
       "      <td>Ouija Japan (2021)</td>\n",
       "      <td>Action|Horror</td>\n",
       "    </tr>\n",
       "    <tr>\n",
       "      <th>288975</th>\n",
       "      <td>The Men Who Made the Movies: Howard Hawks (1973)</td>\n",
       "      <td>Documentary</td>\n",
       "    </tr>\n",
       "    <tr>\n",
       "      <th>288977</th>\n",
       "      <td>Skinford: Death Sentence (2023)</td>\n",
       "      <td>Crime|Thriller</td>\n",
       "    </tr>\n",
       "    <tr>\n",
       "      <th>288983</th>\n",
       "      <td>UNZIPPED: An Autopsy of American Inequality (2...</td>\n",
       "      <td>Documentary</td>\n",
       "    </tr>\n",
       "  </tbody>\n",
       "</table>\n",
       "<p>86537 rows × 2 columns</p>\n",
       "</div>"
      ],
      "text/plain": [
       "                                                     title  \\\n",
       "movieId                                                      \n",
       "1                                         Toy Story (1995)   \n",
       "2                                           Jumanji (1995)   \n",
       "3                                  Grumpier Old Men (1995)   \n",
       "4                                 Waiting to Exhale (1995)   \n",
       "5                       Father of the Bride Part II (1995)   \n",
       "...                                                    ...   \n",
       "288967                State of Siege: Temple Attack (2021)   \n",
       "288971                                  Ouija Japan (2021)   \n",
       "288975    The Men Who Made the Movies: Howard Hawks (1973)   \n",
       "288977                     Skinford: Death Sentence (2023)   \n",
       "288983   UNZIPPED: An Autopsy of American Inequality (2...   \n",
       "\n",
       "                                              genres  \n",
       "movieId                                               \n",
       "1        Adventure|Animation|Children|Comedy|Fantasy  \n",
       "2                         Adventure|Children|Fantasy  \n",
       "3                                     Comedy|Romance  \n",
       "4                               Comedy|Drama|Romance  \n",
       "5                                             Comedy  \n",
       "...                                              ...  \n",
       "288967                                  Action|Drama  \n",
       "288971                                 Action|Horror  \n",
       "288975                                   Documentary  \n",
       "288977                                Crime|Thriller  \n",
       "288983                                   Documentary  \n",
       "\n",
       "[86537 rows x 2 columns]"
      ]
     },
     "execution_count": 20,
     "metadata": {},
     "output_type": "execute_result"
    }
   ],
   "source": [
    "df_movies"
   ]
  },
  {
   "cell_type": "markdown",
   "id": "8582cacb-2d04-4a3f-9805-9919f9332e21",
   "metadata": {},
   "source": [
    "### Seperate the movie year from title"
   ]
  },
  {
   "cell_type": "code",
   "execution_count": 21,
   "id": "ffc1d0fb-8ae4-40be-86ca-e604ef7c73dd",
   "metadata": {},
   "outputs": [],
   "source": [
    "# Create new column year\n",
    "df_movies['year'] = df_movies['title'].str.extract(r'\\((\\d{4})\\)') "
   ]
  },
  {
   "cell_type": "code",
   "execution_count": 22,
   "id": "6871e0c2-a7a6-464b-b773-4f4b4cddc86b",
   "metadata": {},
   "outputs": [],
   "source": [
    "# Remove year from title column\n",
    "df_movies['title'] = df_movies['title'].replace(r'\\((\\d{4})\\)', '', regex=True).str.strip()"
   ]
  },
  {
   "cell_type": "code",
   "execution_count": 23,
   "id": "8736943b-944f-4873-a58e-49563d9faf96",
   "metadata": {},
   "outputs": [],
   "source": [
    "# Change genres to lowercase\n",
    "df_movies['genres'] = df_movies['genres'].str.lower()"
   ]
  },
  {
   "cell_type": "code",
   "execution_count": 24,
   "id": "0482693f-f526-47f1-9b3a-156c2396649c",
   "metadata": {},
   "outputs": [],
   "source": [
    "# Do we need to replace the pipes for genres? Use a list?"
   ]
  },
  {
   "cell_type": "code",
   "execution_count": 25,
   "id": "e3fa887c-aaf2-424a-86c4-1d9056fa252b",
   "metadata": {},
   "outputs": [
    {
     "data": {
      "text/html": [
       "<div>\n",
       "<style scoped>\n",
       "    .dataframe tbody tr th:only-of-type {\n",
       "        vertical-align: middle;\n",
       "    }\n",
       "\n",
       "    .dataframe tbody tr th {\n",
       "        vertical-align: top;\n",
       "    }\n",
       "\n",
       "    .dataframe thead th {\n",
       "        text-align: right;\n",
       "    }\n",
       "</style>\n",
       "<table border=\"1\" class=\"dataframe\">\n",
       "  <thead>\n",
       "    <tr style=\"text-align: right;\">\n",
       "      <th></th>\n",
       "      <th>title</th>\n",
       "      <th>genres</th>\n",
       "      <th>year</th>\n",
       "    </tr>\n",
       "    <tr>\n",
       "      <th>movieId</th>\n",
       "      <th></th>\n",
       "      <th></th>\n",
       "      <th></th>\n",
       "    </tr>\n",
       "  </thead>\n",
       "  <tbody>\n",
       "    <tr>\n",
       "      <th>1</th>\n",
       "      <td>Toy Story</td>\n",
       "      <td>adventure|animation|children|comedy|fantasy</td>\n",
       "      <td>1995</td>\n",
       "    </tr>\n",
       "    <tr>\n",
       "      <th>2</th>\n",
       "      <td>Jumanji</td>\n",
       "      <td>adventure|children|fantasy</td>\n",
       "      <td>1995</td>\n",
       "    </tr>\n",
       "    <tr>\n",
       "      <th>3</th>\n",
       "      <td>Grumpier Old Men</td>\n",
       "      <td>comedy|romance</td>\n",
       "      <td>1995</td>\n",
       "    </tr>\n",
       "    <tr>\n",
       "      <th>4</th>\n",
       "      <td>Waiting to Exhale</td>\n",
       "      <td>comedy|drama|romance</td>\n",
       "      <td>1995</td>\n",
       "    </tr>\n",
       "    <tr>\n",
       "      <th>5</th>\n",
       "      <td>Father of the Bride Part II</td>\n",
       "      <td>comedy</td>\n",
       "      <td>1995</td>\n",
       "    </tr>\n",
       "    <tr>\n",
       "      <th>...</th>\n",
       "      <td>...</td>\n",
       "      <td>...</td>\n",
       "      <td>...</td>\n",
       "    </tr>\n",
       "    <tr>\n",
       "      <th>288967</th>\n",
       "      <td>State of Siege: Temple Attack</td>\n",
       "      <td>action|drama</td>\n",
       "      <td>2021</td>\n",
       "    </tr>\n",
       "    <tr>\n",
       "      <th>288971</th>\n",
       "      <td>Ouija Japan</td>\n",
       "      <td>action|horror</td>\n",
       "      <td>2021</td>\n",
       "    </tr>\n",
       "    <tr>\n",
       "      <th>288975</th>\n",
       "      <td>The Men Who Made the Movies: Howard Hawks</td>\n",
       "      <td>documentary</td>\n",
       "      <td>1973</td>\n",
       "    </tr>\n",
       "    <tr>\n",
       "      <th>288977</th>\n",
       "      <td>Skinford: Death Sentence</td>\n",
       "      <td>crime|thriller</td>\n",
       "      <td>2023</td>\n",
       "    </tr>\n",
       "    <tr>\n",
       "      <th>288983</th>\n",
       "      <td>UNZIPPED: An Autopsy of American Inequality</td>\n",
       "      <td>documentary</td>\n",
       "      <td>2021</td>\n",
       "    </tr>\n",
       "  </tbody>\n",
       "</table>\n",
       "<p>86537 rows × 3 columns</p>\n",
       "</div>"
      ],
      "text/plain": [
       "                                               title  \\\n",
       "movieId                                                \n",
       "1                                          Toy Story   \n",
       "2                                            Jumanji   \n",
       "3                                   Grumpier Old Men   \n",
       "4                                  Waiting to Exhale   \n",
       "5                        Father of the Bride Part II   \n",
       "...                                              ...   \n",
       "288967                 State of Siege: Temple Attack   \n",
       "288971                                   Ouija Japan   \n",
       "288975     The Men Who Made the Movies: Howard Hawks   \n",
       "288977                      Skinford: Death Sentence   \n",
       "288983   UNZIPPED: An Autopsy of American Inequality   \n",
       "\n",
       "                                              genres  year  \n",
       "movieId                                                     \n",
       "1        adventure|animation|children|comedy|fantasy  1995  \n",
       "2                         adventure|children|fantasy  1995  \n",
       "3                                     comedy|romance  1995  \n",
       "4                               comedy|drama|romance  1995  \n",
       "5                                             comedy  1995  \n",
       "...                                              ...   ...  \n",
       "288967                                  action|drama  2021  \n",
       "288971                                 action|horror  2021  \n",
       "288975                                   documentary  1973  \n",
       "288977                                crime|thriller  2023  \n",
       "288983                                   documentary  2021  \n",
       "\n",
       "[86537 rows x 3 columns]"
      ]
     },
     "execution_count": 25,
     "metadata": {},
     "output_type": "execute_result"
    }
   ],
   "source": [
    "df_movies"
   ]
  },
  {
   "cell_type": "code",
   "execution_count": 30,
   "id": "6408e71a-5c9a-4111-b341-21b60dd33281",
   "metadata": {},
   "outputs": [],
   "source": [
    "df_movies = df_movies[['title', 'year', 'genres']]"
   ]
  },
  {
   "cell_type": "code",
   "execution_count": 31,
   "id": "da62f0a9-16f7-4fb6-90b3-d20aa11be526",
   "metadata": {},
   "outputs": [
    {
     "data": {
      "text/html": [
       "<div>\n",
       "<style scoped>\n",
       "    .dataframe tbody tr th:only-of-type {\n",
       "        vertical-align: middle;\n",
       "    }\n",
       "\n",
       "    .dataframe tbody tr th {\n",
       "        vertical-align: top;\n",
       "    }\n",
       "\n",
       "    .dataframe thead th {\n",
       "        text-align: right;\n",
       "    }\n",
       "</style>\n",
       "<table border=\"1\" class=\"dataframe\">\n",
       "  <thead>\n",
       "    <tr style=\"text-align: right;\">\n",
       "      <th></th>\n",
       "      <th>title</th>\n",
       "      <th>year</th>\n",
       "      <th>genres</th>\n",
       "    </tr>\n",
       "    <tr>\n",
       "      <th>movieId</th>\n",
       "      <th></th>\n",
       "      <th></th>\n",
       "      <th></th>\n",
       "    </tr>\n",
       "  </thead>\n",
       "  <tbody>\n",
       "    <tr>\n",
       "      <th>1</th>\n",
       "      <td>Toy Story</td>\n",
       "      <td>1995</td>\n",
       "      <td>adventure|animation|children|comedy|fantasy</td>\n",
       "    </tr>\n",
       "    <tr>\n",
       "      <th>2</th>\n",
       "      <td>Jumanji</td>\n",
       "      <td>1995</td>\n",
       "      <td>adventure|children|fantasy</td>\n",
       "    </tr>\n",
       "    <tr>\n",
       "      <th>3</th>\n",
       "      <td>Grumpier Old Men</td>\n",
       "      <td>1995</td>\n",
       "      <td>comedy|romance</td>\n",
       "    </tr>\n",
       "    <tr>\n",
       "      <th>4</th>\n",
       "      <td>Waiting to Exhale</td>\n",
       "      <td>1995</td>\n",
       "      <td>comedy|drama|romance</td>\n",
       "    </tr>\n",
       "    <tr>\n",
       "      <th>5</th>\n",
       "      <td>Father of the Bride Part II</td>\n",
       "      <td>1995</td>\n",
       "      <td>comedy</td>\n",
       "    </tr>\n",
       "    <tr>\n",
       "      <th>...</th>\n",
       "      <td>...</td>\n",
       "      <td>...</td>\n",
       "      <td>...</td>\n",
       "    </tr>\n",
       "    <tr>\n",
       "      <th>288967</th>\n",
       "      <td>State of Siege: Temple Attack</td>\n",
       "      <td>2021</td>\n",
       "      <td>action|drama</td>\n",
       "    </tr>\n",
       "    <tr>\n",
       "      <th>288971</th>\n",
       "      <td>Ouija Japan</td>\n",
       "      <td>2021</td>\n",
       "      <td>action|horror</td>\n",
       "    </tr>\n",
       "    <tr>\n",
       "      <th>288975</th>\n",
       "      <td>The Men Who Made the Movies: Howard Hawks</td>\n",
       "      <td>1973</td>\n",
       "      <td>documentary</td>\n",
       "    </tr>\n",
       "    <tr>\n",
       "      <th>288977</th>\n",
       "      <td>Skinford: Death Sentence</td>\n",
       "      <td>2023</td>\n",
       "      <td>crime|thriller</td>\n",
       "    </tr>\n",
       "    <tr>\n",
       "      <th>288983</th>\n",
       "      <td>UNZIPPED: An Autopsy of American Inequality</td>\n",
       "      <td>2021</td>\n",
       "      <td>documentary</td>\n",
       "    </tr>\n",
       "  </tbody>\n",
       "</table>\n",
       "<p>86537 rows × 3 columns</p>\n",
       "</div>"
      ],
      "text/plain": [
       "                                               title  year  \\\n",
       "movieId                                                      \n",
       "1                                          Toy Story  1995   \n",
       "2                                            Jumanji  1995   \n",
       "3                                   Grumpier Old Men  1995   \n",
       "4                                  Waiting to Exhale  1995   \n",
       "5                        Father of the Bride Part II  1995   \n",
       "...                                              ...   ...   \n",
       "288967                 State of Siege: Temple Attack  2021   \n",
       "288971                                   Ouija Japan  2021   \n",
       "288975     The Men Who Made the Movies: Howard Hawks  1973   \n",
       "288977                      Skinford: Death Sentence  2023   \n",
       "288983   UNZIPPED: An Autopsy of American Inequality  2021   \n",
       "\n",
       "                                              genres  \n",
       "movieId                                               \n",
       "1        adventure|animation|children|comedy|fantasy  \n",
       "2                         adventure|children|fantasy  \n",
       "3                                     comedy|romance  \n",
       "4                               comedy|drama|romance  \n",
       "5                                             comedy  \n",
       "...                                              ...  \n",
       "288967                                  action|drama  \n",
       "288971                                 action|horror  \n",
       "288975                                   documentary  \n",
       "288977                                crime|thriller  \n",
       "288983                                   documentary  \n",
       "\n",
       "[86537 rows x 3 columns]"
      ]
     },
     "execution_count": 31,
     "metadata": {},
     "output_type": "execute_result"
    }
   ],
   "source": [
    "df_movies"
   ]
  },
  {
   "cell_type": "code",
   "execution_count": null,
   "id": "4f9cda2e-49ec-4132-937d-4df55c766ebe",
   "metadata": {},
   "outputs": [],
   "source": []
  },
  {
   "cell_type": "markdown",
   "id": "8625f2bf-a891-40a1-adc2-071e5493df70",
   "metadata": {},
   "source": [
    "## tags.csv"
   ]
  },
  {
   "cell_type": "code",
   "execution_count": null,
   "id": "5abb9418-1be6-4129-8815-f68825ed929a",
   "metadata": {},
   "outputs": [],
   "source": [
    "# Explore the user created tags, how many are unique\n",
    "df_tags = pd.read_csv('tags.csv')"
   ]
  },
  {
   "cell_type": "code",
   "execution_count": null,
   "id": "fd59b6ec-37b9-48ce-8dfd-7a999ff0838d",
   "metadata": {},
   "outputs": [],
   "source": [
    "df_tags"
   ]
  },
  {
   "cell_type": "code",
   "execution_count": null,
   "id": "bbff2ca1-ba80-42f6-96eb-b2202f7ac1d0",
   "metadata": {},
   "outputs": [],
   "source": [
    "len(df_tags.tag.unique())"
   ]
  },
  {
   "cell_type": "code",
   "execution_count": null,
   "id": "82540633-8079-45d5-90ab-5644b3f4af18",
   "metadata": {},
   "outputs": [],
   "source": [
    "# Change tags to lowercase, may lower the unique count\n",
    "df_tags['tag'] = df_tags['tag'].str.lower()"
   ]
  },
  {
   "cell_type": "code",
   "execution_count": null,
   "id": "0e2179b9-79f7-4f33-b077-233791f93be5",
   "metadata": {},
   "outputs": [],
   "source": [
    "len(df_tags.tag.unique())"
   ]
  },
  {
   "cell_type": "code",
   "execution_count": null,
   "id": "5f949078-b66c-46c5-8517-297cbf428eea",
   "metadata": {},
   "outputs": [],
   "source": [
    "# What percent are unique?\n",
    "10138/2328315 * 100"
   ]
  },
  {
   "cell_type": "code",
   "execution_count": null,
   "id": "67eebb99-65d6-4411-b2f7-17095381eae3",
   "metadata": {},
   "outputs": [],
   "source": [
    "# Check for any null data\n",
    "df_tags.isnull().sum()"
   ]
  },
  {
   "cell_type": "code",
   "execution_count": null,
   "id": "ad9de0c0-e6c6-4270-8c7e-30476db8e9d0",
   "metadata": {},
   "outputs": [],
   "source": [
    "# Minimal, let's just drop an nulls\n",
    "df_tags = df_tags.dropna()"
   ]
  },
  {
   "cell_type": "markdown",
   "id": "8d9ec62c-67c0-483b-ba6c-4eb93cc8bf62",
   "metadata": {},
   "source": [
    "## ratings.csv"
   ]
  },
  {
   "cell_type": "code",
   "execution_count": null,
   "id": "e6dbf92d-b8fd-4577-bd72-ccbf53061724",
   "metadata": {},
   "outputs": [],
   "source": [
    "df_ratings = pd.read_csv('ratings.csv')"
   ]
  },
  {
   "cell_type": "code",
   "execution_count": null,
   "id": "ae0ab167-5f90-4884-9196-9e3c0dbdac47",
   "metadata": {},
   "outputs": [],
   "source": [
    "df_ratings"
   ]
  },
  {
   "cell_type": "code",
   "execution_count": null,
   "id": "8df3ee8f-af55-44e8-b336-7ab3e5670f7f",
   "metadata": {},
   "outputs": [],
   "source": [
    "df_ratings.isnull().sum()"
   ]
  },
  {
   "cell_type": "markdown",
   "id": "0287b0b2-a91d-4c56-a7a6-be323b10b59e",
   "metadata": {},
   "source": [
    "## links.csv"
   ]
  },
  {
   "cell_type": "code",
   "execution_count": null,
   "id": "295c9311-df5f-4e4a-954a-04b0e604f203",
   "metadata": {},
   "outputs": [],
   "source": [
    "df_links = pd.read_csv('links.csv')"
   ]
  },
  {
   "cell_type": "code",
   "execution_count": null,
   "id": "82cfda50-7163-4053-99fb-a7c21f6d026c",
   "metadata": {},
   "outputs": [],
   "source": [
    "df_links"
   ]
  },
  {
   "cell_type": "markdown",
   "id": "c26fbf3c-c392-497c-a851-e76f1260839f",
   "metadata": {},
   "source": [
    "## genome-tags.csv"
   ]
  },
  {
   "cell_type": "code",
   "execution_count": null,
   "id": "2c0a2aca-07d7-4e61-b4dd-1b85b47fd120",
   "metadata": {},
   "outputs": [],
   "source": [
    "df_genometags = pd.read_csv('genome-tags.csv')"
   ]
  },
  {
   "cell_type": "code",
   "execution_count": null,
   "id": "6aee8dee-9534-49df-abd4-30a0e7d63f56",
   "metadata": {},
   "outputs": [],
   "source": [
    "df_genometags"
   ]
  },
  {
   "cell_type": "code",
   "execution_count": null,
   "id": "74894a3e-0f1e-4223-a55a-cdf300d87096",
   "metadata": {},
   "outputs": [],
   "source": [
    "df_genometags.isnull().sum()"
   ]
  },
  {
   "cell_type": "code",
   "execution_count": null,
   "id": "e984a119-8001-4a96-8d6f-bf6cd66de36f",
   "metadata": {},
   "outputs": [],
   "source": [
    "# Change tags to lowercase\n",
    "df_genometags['tag'] = df_genometags['tag'].str.lower()"
   ]
  },
  {
   "cell_type": "markdown",
   "id": "0799e6c6-0830-49c2-a36a-f1b9a4be6908",
   "metadata": {},
   "source": [
    "## genome-scores.csv "
   ]
  },
  {
   "cell_type": "code",
   "execution_count": null,
   "id": "586a1ebf-d7ff-4bd0-a137-447c2570703c",
   "metadata": {},
   "outputs": [],
   "source": [
    "df_genomescores = pd.read_csv('genome-scores.csv')"
   ]
  },
  {
   "cell_type": "code",
   "execution_count": null,
   "id": "fa53c6e4-e662-43a0-afed-00097d773bd5",
   "metadata": {},
   "outputs": [],
   "source": [
    "df_genomescores"
   ]
  },
  {
   "cell_type": "code",
   "execution_count": null,
   "id": "521a37df-7413-4e1a-baf2-b4924658a3a8",
   "metadata": {},
   "outputs": [],
   "source": [
    "df_genomescores.isnull().sum()"
   ]
  },
  {
   "cell_type": "code",
   "execution_count": null,
   "id": "2e7b5abf-6440-42a3-90d2-f0257c350596",
   "metadata": {},
   "outputs": [],
   "source": []
  }
 ],
 "metadata": {
  "kernelspec": {
   "display_name": "Python 3 (ipykernel)",
   "language": "python",
   "name": "python3"
  },
  "language_info": {
   "codemirror_mode": {
    "name": "ipython",
    "version": 3
   },
   "file_extension": ".py",
   "mimetype": "text/x-python",
   "name": "python",
   "nbconvert_exporter": "python",
   "pygments_lexer": "ipython3",
   "version": "3.12.1"
  }
 },
 "nbformat": 4,
 "nbformat_minor": 5
}
