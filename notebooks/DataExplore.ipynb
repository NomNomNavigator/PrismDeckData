{
 "cells": [
  {
   "cell_type": "markdown",
   "id": "d882e962-69a5-42c6-bdd0-08718ab19bdf",
   "metadata": {},
   "source": [
    "# Explore and clean movie data"
   ]
  },
  {
   "cell_type": "code",
   "execution_count": 1,
   "id": "ddec94b4-d937-48c1-8392-7cd6855b425e",
   "metadata": {},
   "outputs": [],
   "source": [
    "import pandas as pd"
   ]
  },
  {
   "cell_type": "markdown",
   "id": "209e8460-496d-49a4-8129-21d65e6ed25f",
   "metadata": {},
   "source": [
    "## movies.csv"
   ]
  },
  {
   "cell_type": "code",
   "execution_count": 2,
   "id": "018b12f2-e41e-46ed-94f5-ca062c804e76",
   "metadata": {},
   "outputs": [],
   "source": [
    "df_movies = pd.read_csv('raw_data/movies.csv')"
   ]
  },
  {
   "cell_type": "code",
   "execution_count": 3,
   "id": "7f32d5ab-1adc-4332-a685-19f1a2df64d9",
   "metadata": {},
   "outputs": [
    {
     "data": {
      "text/html": [
       "<div>\n",
       "<style scoped>\n",
       "    .dataframe tbody tr th:only-of-type {\n",
       "        vertical-align: middle;\n",
       "    }\n",
       "\n",
       "    .dataframe tbody tr th {\n",
       "        vertical-align: top;\n",
       "    }\n",
       "\n",
       "    .dataframe thead th {\n",
       "        text-align: right;\n",
       "    }\n",
       "</style>\n",
       "<table border=\"1\" class=\"dataframe\">\n",
       "  <thead>\n",
       "    <tr style=\"text-align: right;\">\n",
       "      <th></th>\n",
       "      <th>movieId</th>\n",
       "      <th>title</th>\n",
       "      <th>genres</th>\n",
       "    </tr>\n",
       "  </thead>\n",
       "  <tbody>\n",
       "    <tr>\n",
       "      <th>0</th>\n",
       "      <td>1</td>\n",
       "      <td>Toy Story (1995)</td>\n",
       "      <td>Adventure|Animation|Children|Comedy|Fantasy</td>\n",
       "    </tr>\n",
       "    <tr>\n",
       "      <th>1</th>\n",
       "      <td>2</td>\n",
       "      <td>Jumanji (1995)</td>\n",
       "      <td>Adventure|Children|Fantasy</td>\n",
       "    </tr>\n",
       "    <tr>\n",
       "      <th>2</th>\n",
       "      <td>3</td>\n",
       "      <td>Grumpier Old Men (1995)</td>\n",
       "      <td>Comedy|Romance</td>\n",
       "    </tr>\n",
       "    <tr>\n",
       "      <th>3</th>\n",
       "      <td>4</td>\n",
       "      <td>Waiting to Exhale (1995)</td>\n",
       "      <td>Comedy|Drama|Romance</td>\n",
       "    </tr>\n",
       "    <tr>\n",
       "      <th>4</th>\n",
       "      <td>5</td>\n",
       "      <td>Father of the Bride Part II (1995)</td>\n",
       "      <td>Comedy</td>\n",
       "    </tr>\n",
       "    <tr>\n",
       "      <th>...</th>\n",
       "      <td>...</td>\n",
       "      <td>...</td>\n",
       "      <td>...</td>\n",
       "    </tr>\n",
       "    <tr>\n",
       "      <th>86532</th>\n",
       "      <td>288967</td>\n",
       "      <td>State of Siege: Temple Attack (2021)</td>\n",
       "      <td>Action|Drama</td>\n",
       "    </tr>\n",
       "    <tr>\n",
       "      <th>86533</th>\n",
       "      <td>288971</td>\n",
       "      <td>Ouija Japan (2021)</td>\n",
       "      <td>Action|Horror</td>\n",
       "    </tr>\n",
       "    <tr>\n",
       "      <th>86534</th>\n",
       "      <td>288975</td>\n",
       "      <td>The Men Who Made the Movies: Howard Hawks (1973)</td>\n",
       "      <td>Documentary</td>\n",
       "    </tr>\n",
       "    <tr>\n",
       "      <th>86535</th>\n",
       "      <td>288977</td>\n",
       "      <td>Skinford: Death Sentence (2023)</td>\n",
       "      <td>Crime|Thriller</td>\n",
       "    </tr>\n",
       "    <tr>\n",
       "      <th>86536</th>\n",
       "      <td>288983</td>\n",
       "      <td>UNZIPPED: An Autopsy of American Inequality (2...</td>\n",
       "      <td>Documentary</td>\n",
       "    </tr>\n",
       "  </tbody>\n",
       "</table>\n",
       "<p>86537 rows × 3 columns</p>\n",
       "</div>"
      ],
      "text/plain": [
       "       movieId                                              title  \\\n",
       "0            1                                   Toy Story (1995)   \n",
       "1            2                                     Jumanji (1995)   \n",
       "2            3                            Grumpier Old Men (1995)   \n",
       "3            4                           Waiting to Exhale (1995)   \n",
       "4            5                 Father of the Bride Part II (1995)   \n",
       "...        ...                                                ...   \n",
       "86532   288967               State of Siege: Temple Attack (2021)   \n",
       "86533   288971                                 Ouija Japan (2021)   \n",
       "86534   288975   The Men Who Made the Movies: Howard Hawks (1973)   \n",
       "86535   288977                    Skinford: Death Sentence (2023)   \n",
       "86536   288983  UNZIPPED: An Autopsy of American Inequality (2...   \n",
       "\n",
       "                                            genres  \n",
       "0      Adventure|Animation|Children|Comedy|Fantasy  \n",
       "1                       Adventure|Children|Fantasy  \n",
       "2                                   Comedy|Romance  \n",
       "3                             Comedy|Drama|Romance  \n",
       "4                                           Comedy  \n",
       "...                                            ...  \n",
       "86532                                 Action|Drama  \n",
       "86533                                Action|Horror  \n",
       "86534                                  Documentary  \n",
       "86535                               Crime|Thriller  \n",
       "86536                                  Documentary  \n",
       "\n",
       "[86537 rows x 3 columns]"
      ]
     },
     "execution_count": 3,
     "metadata": {},
     "output_type": "execute_result"
    }
   ],
   "source": [
    "df_movies"
   ]
  },
  {
   "cell_type": "code",
   "execution_count": 4,
   "id": "4d2e90a3-d227-4ebe-82b2-51ed2f0956b1",
   "metadata": {},
   "outputs": [
    {
     "data": {
      "text/plain": [
       "movieId     int64\n",
       "title      object\n",
       "genres     object\n",
       "dtype: object"
      ]
     },
     "execution_count": 4,
     "metadata": {},
     "output_type": "execute_result"
    }
   ],
   "source": [
    "df_movies.dtypes"
   ]
  },
  {
   "cell_type": "code",
   "execution_count": 5,
   "id": "b554164d-a04d-4796-bd66-a3bc7655c7fb",
   "metadata": {},
   "outputs": [
    {
     "data": {
      "text/plain": [
       "86537"
      ]
     },
     "execution_count": 5,
     "metadata": {},
     "output_type": "execute_result"
    }
   ],
   "source": [
    "# Verify movieId is unique\n",
    "len(df_movies.movieId.unique())"
   ]
  },
  {
   "cell_type": "code",
   "execution_count": 6,
   "id": "6403f081-6b81-4e6f-a8fd-f9fad1cf98c1",
   "metadata": {},
   "outputs": [
    {
     "data": {
      "text/plain": [
       "movieId    0\n",
       "title      0\n",
       "genres     0\n",
       "dtype: int64"
      ]
     },
     "execution_count": 6,
     "metadata": {},
     "output_type": "execute_result"
    }
   ],
   "source": [
    "# Check for any null data\n",
    "df_movies.isnull().sum()"
   ]
  },
  {
   "cell_type": "code",
   "execution_count": 7,
   "id": "a03bbd0d-e955-442d-ba8b-faa5b5408bc5",
   "metadata": {},
   "outputs": [],
   "source": [
    "df_movies.set_index('movieId', inplace=True)"
   ]
  },
  {
   "cell_type": "code",
   "execution_count": 8,
   "id": "c054eb93-46d3-4f77-9c60-d652a9d9e7d9",
   "metadata": {},
   "outputs": [
    {
     "data": {
      "text/html": [
       "<div>\n",
       "<style scoped>\n",
       "    .dataframe tbody tr th:only-of-type {\n",
       "        vertical-align: middle;\n",
       "    }\n",
       "\n",
       "    .dataframe tbody tr th {\n",
       "        vertical-align: top;\n",
       "    }\n",
       "\n",
       "    .dataframe thead th {\n",
       "        text-align: right;\n",
       "    }\n",
       "</style>\n",
       "<table border=\"1\" class=\"dataframe\">\n",
       "  <thead>\n",
       "    <tr style=\"text-align: right;\">\n",
       "      <th></th>\n",
       "      <th>title</th>\n",
       "      <th>genres</th>\n",
       "    </tr>\n",
       "    <tr>\n",
       "      <th>movieId</th>\n",
       "      <th></th>\n",
       "      <th></th>\n",
       "    </tr>\n",
       "  </thead>\n",
       "  <tbody>\n",
       "    <tr>\n",
       "      <th>1</th>\n",
       "      <td>Toy Story (1995)</td>\n",
       "      <td>Adventure|Animation|Children|Comedy|Fantasy</td>\n",
       "    </tr>\n",
       "    <tr>\n",
       "      <th>2</th>\n",
       "      <td>Jumanji (1995)</td>\n",
       "      <td>Adventure|Children|Fantasy</td>\n",
       "    </tr>\n",
       "    <tr>\n",
       "      <th>3</th>\n",
       "      <td>Grumpier Old Men (1995)</td>\n",
       "      <td>Comedy|Romance</td>\n",
       "    </tr>\n",
       "    <tr>\n",
       "      <th>4</th>\n",
       "      <td>Waiting to Exhale (1995)</td>\n",
       "      <td>Comedy|Drama|Romance</td>\n",
       "    </tr>\n",
       "    <tr>\n",
       "      <th>5</th>\n",
       "      <td>Father of the Bride Part II (1995)</td>\n",
       "      <td>Comedy</td>\n",
       "    </tr>\n",
       "    <tr>\n",
       "      <th>...</th>\n",
       "      <td>...</td>\n",
       "      <td>...</td>\n",
       "    </tr>\n",
       "    <tr>\n",
       "      <th>288967</th>\n",
       "      <td>State of Siege: Temple Attack (2021)</td>\n",
       "      <td>Action|Drama</td>\n",
       "    </tr>\n",
       "    <tr>\n",
       "      <th>288971</th>\n",
       "      <td>Ouija Japan (2021)</td>\n",
       "      <td>Action|Horror</td>\n",
       "    </tr>\n",
       "    <tr>\n",
       "      <th>288975</th>\n",
       "      <td>The Men Who Made the Movies: Howard Hawks (1973)</td>\n",
       "      <td>Documentary</td>\n",
       "    </tr>\n",
       "    <tr>\n",
       "      <th>288977</th>\n",
       "      <td>Skinford: Death Sentence (2023)</td>\n",
       "      <td>Crime|Thriller</td>\n",
       "    </tr>\n",
       "    <tr>\n",
       "      <th>288983</th>\n",
       "      <td>UNZIPPED: An Autopsy of American Inequality (2...</td>\n",
       "      <td>Documentary</td>\n",
       "    </tr>\n",
       "  </tbody>\n",
       "</table>\n",
       "<p>86537 rows × 2 columns</p>\n",
       "</div>"
      ],
      "text/plain": [
       "                                                     title  \\\n",
       "movieId                                                      \n",
       "1                                         Toy Story (1995)   \n",
       "2                                           Jumanji (1995)   \n",
       "3                                  Grumpier Old Men (1995)   \n",
       "4                                 Waiting to Exhale (1995)   \n",
       "5                       Father of the Bride Part II (1995)   \n",
       "...                                                    ...   \n",
       "288967                State of Siege: Temple Attack (2021)   \n",
       "288971                                  Ouija Japan (2021)   \n",
       "288975    The Men Who Made the Movies: Howard Hawks (1973)   \n",
       "288977                     Skinford: Death Sentence (2023)   \n",
       "288983   UNZIPPED: An Autopsy of American Inequality (2...   \n",
       "\n",
       "                                              genres  \n",
       "movieId                                               \n",
       "1        Adventure|Animation|Children|Comedy|Fantasy  \n",
       "2                         Adventure|Children|Fantasy  \n",
       "3                                     Comedy|Romance  \n",
       "4                               Comedy|Drama|Romance  \n",
       "5                                             Comedy  \n",
       "...                                              ...  \n",
       "288967                                  Action|Drama  \n",
       "288971                                 Action|Horror  \n",
       "288975                                   Documentary  \n",
       "288977                                Crime|Thriller  \n",
       "288983                                   Documentary  \n",
       "\n",
       "[86537 rows x 2 columns]"
      ]
     },
     "execution_count": 8,
     "metadata": {},
     "output_type": "execute_result"
    }
   ],
   "source": [
    "df_movies"
   ]
  },
  {
   "cell_type": "markdown",
   "id": "8582cacb-2d04-4a3f-9805-9919f9332e21",
   "metadata": {},
   "source": [
    "### Seperate the movie year from title"
   ]
  },
  {
   "cell_type": "code",
   "execution_count": 9,
   "id": "ffc1d0fb-8ae4-40be-86ca-e604ef7c73dd",
   "metadata": {},
   "outputs": [],
   "source": [
    "# Create new column year\n",
    "df_movies['year'] = df_movies['title'].str.extract(r'\\((\\d{4})\\)') "
   ]
  },
  {
   "cell_type": "code",
   "execution_count": 10,
   "id": "6871e0c2-a7a6-464b-b773-4f4b4cddc86b",
   "metadata": {},
   "outputs": [],
   "source": [
    "# Remove year from title column\n",
    "df_movies['title'] = df_movies['title'].replace(r'\\((\\d{4})\\)', '', regex=True).str.strip()"
   ]
  },
  {
   "cell_type": "code",
   "execution_count": 11,
   "id": "8736943b-944f-4873-a58e-49563d9faf96",
   "metadata": {},
   "outputs": [],
   "source": [
    "# Change genres to lowercase\n",
    "df_movies['genres'] = df_movies['genres'].str.lower()"
   ]
  },
  {
   "cell_type": "code",
   "execution_count": 12,
   "id": "0482693f-f526-47f1-9b3a-156c2396649c",
   "metadata": {},
   "outputs": [],
   "source": [
    "# Do we need to replace the pipes for genres? Use a list?"
   ]
  },
  {
   "cell_type": "code",
   "execution_count": 13,
   "id": "e3fa887c-aaf2-424a-86c4-1d9056fa252b",
   "metadata": {},
   "outputs": [
    {
     "data": {
      "text/html": [
       "<div>\n",
       "<style scoped>\n",
       "    .dataframe tbody tr th:only-of-type {\n",
       "        vertical-align: middle;\n",
       "    }\n",
       "\n",
       "    .dataframe tbody tr th {\n",
       "        vertical-align: top;\n",
       "    }\n",
       "\n",
       "    .dataframe thead th {\n",
       "        text-align: right;\n",
       "    }\n",
       "</style>\n",
       "<table border=\"1\" class=\"dataframe\">\n",
       "  <thead>\n",
       "    <tr style=\"text-align: right;\">\n",
       "      <th></th>\n",
       "      <th>title</th>\n",
       "      <th>genres</th>\n",
       "      <th>year</th>\n",
       "    </tr>\n",
       "    <tr>\n",
       "      <th>movieId</th>\n",
       "      <th></th>\n",
       "      <th></th>\n",
       "      <th></th>\n",
       "    </tr>\n",
       "  </thead>\n",
       "  <tbody>\n",
       "    <tr>\n",
       "      <th>1</th>\n",
       "      <td>Toy Story</td>\n",
       "      <td>adventure|animation|children|comedy|fantasy</td>\n",
       "      <td>1995</td>\n",
       "    </tr>\n",
       "    <tr>\n",
       "      <th>2</th>\n",
       "      <td>Jumanji</td>\n",
       "      <td>adventure|children|fantasy</td>\n",
       "      <td>1995</td>\n",
       "    </tr>\n",
       "    <tr>\n",
       "      <th>3</th>\n",
       "      <td>Grumpier Old Men</td>\n",
       "      <td>comedy|romance</td>\n",
       "      <td>1995</td>\n",
       "    </tr>\n",
       "    <tr>\n",
       "      <th>4</th>\n",
       "      <td>Waiting to Exhale</td>\n",
       "      <td>comedy|drama|romance</td>\n",
       "      <td>1995</td>\n",
       "    </tr>\n",
       "    <tr>\n",
       "      <th>5</th>\n",
       "      <td>Father of the Bride Part II</td>\n",
       "      <td>comedy</td>\n",
       "      <td>1995</td>\n",
       "    </tr>\n",
       "    <tr>\n",
       "      <th>...</th>\n",
       "      <td>...</td>\n",
       "      <td>...</td>\n",
       "      <td>...</td>\n",
       "    </tr>\n",
       "    <tr>\n",
       "      <th>288967</th>\n",
       "      <td>State of Siege: Temple Attack</td>\n",
       "      <td>action|drama</td>\n",
       "      <td>2021</td>\n",
       "    </tr>\n",
       "    <tr>\n",
       "      <th>288971</th>\n",
       "      <td>Ouija Japan</td>\n",
       "      <td>action|horror</td>\n",
       "      <td>2021</td>\n",
       "    </tr>\n",
       "    <tr>\n",
       "      <th>288975</th>\n",
       "      <td>The Men Who Made the Movies: Howard Hawks</td>\n",
       "      <td>documentary</td>\n",
       "      <td>1973</td>\n",
       "    </tr>\n",
       "    <tr>\n",
       "      <th>288977</th>\n",
       "      <td>Skinford: Death Sentence</td>\n",
       "      <td>crime|thriller</td>\n",
       "      <td>2023</td>\n",
       "    </tr>\n",
       "    <tr>\n",
       "      <th>288983</th>\n",
       "      <td>UNZIPPED: An Autopsy of American Inequality</td>\n",
       "      <td>documentary</td>\n",
       "      <td>2021</td>\n",
       "    </tr>\n",
       "  </tbody>\n",
       "</table>\n",
       "<p>86537 rows × 3 columns</p>\n",
       "</div>"
      ],
      "text/plain": [
       "                                               title  \\\n",
       "movieId                                                \n",
       "1                                          Toy Story   \n",
       "2                                            Jumanji   \n",
       "3                                   Grumpier Old Men   \n",
       "4                                  Waiting to Exhale   \n",
       "5                        Father of the Bride Part II   \n",
       "...                                              ...   \n",
       "288967                 State of Siege: Temple Attack   \n",
       "288971                                   Ouija Japan   \n",
       "288975     The Men Who Made the Movies: Howard Hawks   \n",
       "288977                      Skinford: Death Sentence   \n",
       "288983   UNZIPPED: An Autopsy of American Inequality   \n",
       "\n",
       "                                              genres  year  \n",
       "movieId                                                     \n",
       "1        adventure|animation|children|comedy|fantasy  1995  \n",
       "2                         adventure|children|fantasy  1995  \n",
       "3                                     comedy|romance  1995  \n",
       "4                               comedy|drama|romance  1995  \n",
       "5                                             comedy  1995  \n",
       "...                                              ...   ...  \n",
       "288967                                  action|drama  2021  \n",
       "288971                                 action|horror  2021  \n",
       "288975                                   documentary  1973  \n",
       "288977                                crime|thriller  2023  \n",
       "288983                                   documentary  2021  \n",
       "\n",
       "[86537 rows x 3 columns]"
      ]
     },
     "execution_count": 13,
     "metadata": {},
     "output_type": "execute_result"
    }
   ],
   "source": [
    "df_movies"
   ]
  },
  {
   "cell_type": "code",
   "execution_count": 14,
   "id": "6408e71a-5c9a-4111-b341-21b60dd33281",
   "metadata": {},
   "outputs": [],
   "source": [
    "df_movies = df_movies[['title', 'year', 'genres']]"
   ]
  },
  {
   "cell_type": "code",
   "execution_count": 15,
   "id": "da62f0a9-16f7-4fb6-90b3-d20aa11be526",
   "metadata": {},
   "outputs": [
    {
     "data": {
      "text/html": [
       "<div>\n",
       "<style scoped>\n",
       "    .dataframe tbody tr th:only-of-type {\n",
       "        vertical-align: middle;\n",
       "    }\n",
       "\n",
       "    .dataframe tbody tr th {\n",
       "        vertical-align: top;\n",
       "    }\n",
       "\n",
       "    .dataframe thead th {\n",
       "        text-align: right;\n",
       "    }\n",
       "</style>\n",
       "<table border=\"1\" class=\"dataframe\">\n",
       "  <thead>\n",
       "    <tr style=\"text-align: right;\">\n",
       "      <th></th>\n",
       "      <th>title</th>\n",
       "      <th>year</th>\n",
       "      <th>genres</th>\n",
       "    </tr>\n",
       "    <tr>\n",
       "      <th>movieId</th>\n",
       "      <th></th>\n",
       "      <th></th>\n",
       "      <th></th>\n",
       "    </tr>\n",
       "  </thead>\n",
       "  <tbody>\n",
       "    <tr>\n",
       "      <th>1</th>\n",
       "      <td>Toy Story</td>\n",
       "      <td>1995</td>\n",
       "      <td>adventure|animation|children|comedy|fantasy</td>\n",
       "    </tr>\n",
       "    <tr>\n",
       "      <th>2</th>\n",
       "      <td>Jumanji</td>\n",
       "      <td>1995</td>\n",
       "      <td>adventure|children|fantasy</td>\n",
       "    </tr>\n",
       "    <tr>\n",
       "      <th>3</th>\n",
       "      <td>Grumpier Old Men</td>\n",
       "      <td>1995</td>\n",
       "      <td>comedy|romance</td>\n",
       "    </tr>\n",
       "    <tr>\n",
       "      <th>4</th>\n",
       "      <td>Waiting to Exhale</td>\n",
       "      <td>1995</td>\n",
       "      <td>comedy|drama|romance</td>\n",
       "    </tr>\n",
       "    <tr>\n",
       "      <th>5</th>\n",
       "      <td>Father of the Bride Part II</td>\n",
       "      <td>1995</td>\n",
       "      <td>comedy</td>\n",
       "    </tr>\n",
       "    <tr>\n",
       "      <th>...</th>\n",
       "      <td>...</td>\n",
       "      <td>...</td>\n",
       "      <td>...</td>\n",
       "    </tr>\n",
       "    <tr>\n",
       "      <th>288967</th>\n",
       "      <td>State of Siege: Temple Attack</td>\n",
       "      <td>2021</td>\n",
       "      <td>action|drama</td>\n",
       "    </tr>\n",
       "    <tr>\n",
       "      <th>288971</th>\n",
       "      <td>Ouija Japan</td>\n",
       "      <td>2021</td>\n",
       "      <td>action|horror</td>\n",
       "    </tr>\n",
       "    <tr>\n",
       "      <th>288975</th>\n",
       "      <td>The Men Who Made the Movies: Howard Hawks</td>\n",
       "      <td>1973</td>\n",
       "      <td>documentary</td>\n",
       "    </tr>\n",
       "    <tr>\n",
       "      <th>288977</th>\n",
       "      <td>Skinford: Death Sentence</td>\n",
       "      <td>2023</td>\n",
       "      <td>crime|thriller</td>\n",
       "    </tr>\n",
       "    <tr>\n",
       "      <th>288983</th>\n",
       "      <td>UNZIPPED: An Autopsy of American Inequality</td>\n",
       "      <td>2021</td>\n",
       "      <td>documentary</td>\n",
       "    </tr>\n",
       "  </tbody>\n",
       "</table>\n",
       "<p>86537 rows × 3 columns</p>\n",
       "</div>"
      ],
      "text/plain": [
       "                                               title  year  \\\n",
       "movieId                                                      \n",
       "1                                          Toy Story  1995   \n",
       "2                                            Jumanji  1995   \n",
       "3                                   Grumpier Old Men  1995   \n",
       "4                                  Waiting to Exhale  1995   \n",
       "5                        Father of the Bride Part II  1995   \n",
       "...                                              ...   ...   \n",
       "288967                 State of Siege: Temple Attack  2021   \n",
       "288971                                   Ouija Japan  2021   \n",
       "288975     The Men Who Made the Movies: Howard Hawks  1973   \n",
       "288977                      Skinford: Death Sentence  2023   \n",
       "288983   UNZIPPED: An Autopsy of American Inequality  2021   \n",
       "\n",
       "                                              genres  \n",
       "movieId                                               \n",
       "1        adventure|animation|children|comedy|fantasy  \n",
       "2                         adventure|children|fantasy  \n",
       "3                                     comedy|romance  \n",
       "4                               comedy|drama|romance  \n",
       "5                                             comedy  \n",
       "...                                              ...  \n",
       "288967                                  action|drama  \n",
       "288971                                 action|horror  \n",
       "288975                                   documentary  \n",
       "288977                                crime|thriller  \n",
       "288983                                   documentary  \n",
       "\n",
       "[86537 rows x 3 columns]"
      ]
     },
     "execution_count": 15,
     "metadata": {},
     "output_type": "execute_result"
    }
   ],
   "source": [
    "df_movies"
   ]
  },
  {
   "cell_type": "code",
   "execution_count": null,
   "id": "4f9cda2e-49ec-4132-937d-4df55c766ebe",
   "metadata": {},
   "outputs": [],
   "source": []
  },
  {
   "cell_type": "markdown",
   "id": "8625f2bf-a891-40a1-adc2-071e5493df70",
   "metadata": {},
   "source": [
    "## tags.csv"
   ]
  },
  {
   "cell_type": "code",
   "execution_count": 17,
   "id": "5abb9418-1be6-4129-8815-f68825ed929a",
   "metadata": {},
   "outputs": [],
   "source": [
    "# Explore the user created tags, how many are unique\n",
    "df_tags = pd.read_csv('raw_data/tags.csv')"
   ]
  },
  {
   "cell_type": "code",
   "execution_count": 18,
   "id": "fd59b6ec-37b9-48ce-8dfd-7a999ff0838d",
   "metadata": {},
   "outputs": [
    {
     "data": {
      "text/html": [
       "<div>\n",
       "<style scoped>\n",
       "    .dataframe tbody tr th:only-of-type {\n",
       "        vertical-align: middle;\n",
       "    }\n",
       "\n",
       "    .dataframe tbody tr th {\n",
       "        vertical-align: top;\n",
       "    }\n",
       "\n",
       "    .dataframe thead th {\n",
       "        text-align: right;\n",
       "    }\n",
       "</style>\n",
       "<table border=\"1\" class=\"dataframe\">\n",
       "  <thead>\n",
       "    <tr style=\"text-align: right;\">\n",
       "      <th></th>\n",
       "      <th>userId</th>\n",
       "      <th>movieId</th>\n",
       "      <th>tag</th>\n",
       "      <th>timestamp</th>\n",
       "    </tr>\n",
       "  </thead>\n",
       "  <tbody>\n",
       "    <tr>\n",
       "      <th>0</th>\n",
       "      <td>10</td>\n",
       "      <td>260</td>\n",
       "      <td>good vs evil</td>\n",
       "      <td>1430666558</td>\n",
       "    </tr>\n",
       "    <tr>\n",
       "      <th>1</th>\n",
       "      <td>10</td>\n",
       "      <td>260</td>\n",
       "      <td>Harrison Ford</td>\n",
       "      <td>1430666505</td>\n",
       "    </tr>\n",
       "    <tr>\n",
       "      <th>2</th>\n",
       "      <td>10</td>\n",
       "      <td>260</td>\n",
       "      <td>sci-fi</td>\n",
       "      <td>1430666538</td>\n",
       "    </tr>\n",
       "    <tr>\n",
       "      <th>3</th>\n",
       "      <td>14</td>\n",
       "      <td>1221</td>\n",
       "      <td>Al Pacino</td>\n",
       "      <td>1311600756</td>\n",
       "    </tr>\n",
       "    <tr>\n",
       "      <th>4</th>\n",
       "      <td>14</td>\n",
       "      <td>1221</td>\n",
       "      <td>mafia</td>\n",
       "      <td>1311600746</td>\n",
       "    </tr>\n",
       "    <tr>\n",
       "      <th>...</th>\n",
       "      <td>...</td>\n",
       "      <td>...</td>\n",
       "      <td>...</td>\n",
       "      <td>...</td>\n",
       "    </tr>\n",
       "    <tr>\n",
       "      <th>2328310</th>\n",
       "      <td>330923</td>\n",
       "      <td>176599</td>\n",
       "      <td>politically correct</td>\n",
       "      <td>1507547491</td>\n",
       "    </tr>\n",
       "    <tr>\n",
       "      <th>2328311</th>\n",
       "      <td>330933</td>\n",
       "      <td>3317</td>\n",
       "      <td>coming of age</td>\n",
       "      <td>1351279384</td>\n",
       "    </tr>\n",
       "    <tr>\n",
       "      <th>2328312</th>\n",
       "      <td>330933</td>\n",
       "      <td>3317</td>\n",
       "      <td>sexuality</td>\n",
       "      <td>1351279389</td>\n",
       "    </tr>\n",
       "    <tr>\n",
       "      <th>2328313</th>\n",
       "      <td>330947</td>\n",
       "      <td>5782</td>\n",
       "      <td>Not Luc Besson</td>\n",
       "      <td>1154110902</td>\n",
       "    </tr>\n",
       "    <tr>\n",
       "      <th>2328314</th>\n",
       "      <td>330947</td>\n",
       "      <td>44191</td>\n",
       "      <td>comic book</td>\n",
       "      <td>1154271525</td>\n",
       "    </tr>\n",
       "  </tbody>\n",
       "</table>\n",
       "<p>2328315 rows × 4 columns</p>\n",
       "</div>"
      ],
      "text/plain": [
       "         userId  movieId                  tag   timestamp\n",
       "0            10      260         good vs evil  1430666558\n",
       "1            10      260        Harrison Ford  1430666505\n",
       "2            10      260               sci-fi  1430666538\n",
       "3            14     1221            Al Pacino  1311600756\n",
       "4            14     1221                mafia  1311600746\n",
       "...         ...      ...                  ...         ...\n",
       "2328310  330923   176599  politically correct  1507547491\n",
       "2328311  330933     3317        coming of age  1351279384\n",
       "2328312  330933     3317            sexuality  1351279389\n",
       "2328313  330947     5782       Not Luc Besson  1154110902\n",
       "2328314  330947    44191           comic book  1154271525\n",
       "\n",
       "[2328315 rows x 4 columns]"
      ]
     },
     "execution_count": 18,
     "metadata": {},
     "output_type": "execute_result"
    }
   ],
   "source": [
    "df_tags"
   ]
  },
  {
   "cell_type": "code",
   "execution_count": 19,
   "id": "bbff2ca1-ba80-42f6-96eb-b2202f7ac1d0",
   "metadata": {},
   "outputs": [
    {
     "data": {
      "text/plain": [
       "153950"
      ]
     },
     "execution_count": 19,
     "metadata": {},
     "output_type": "execute_result"
    }
   ],
   "source": [
    "len(df_tags.tag.unique())"
   ]
  },
  {
   "cell_type": "code",
   "execution_count": 20,
   "id": "82540633-8079-45d5-90ab-5644b3f4af18",
   "metadata": {},
   "outputs": [],
   "source": [
    "# Change tags to lowercase, may lower the unique count\n",
    "df_tags['tag'] = df_tags['tag'].str.lower()"
   ]
  },
  {
   "cell_type": "code",
   "execution_count": 21,
   "id": "0e2179b9-79f7-4f33-b077-233791f93be5",
   "metadata": {},
   "outputs": [
    {
     "data": {
      "text/plain": [
       "143812"
      ]
     },
     "execution_count": 21,
     "metadata": {},
     "output_type": "execute_result"
    }
   ],
   "source": [
    "len(df_tags.tag.unique())"
   ]
  },
  {
   "cell_type": "code",
   "execution_count": 22,
   "id": "5f949078-b66c-46c5-8517-297cbf428eea",
   "metadata": {},
   "outputs": [
    {
     "data": {
      "text/plain": [
       "0.4354221829949986"
      ]
     },
     "execution_count": 22,
     "metadata": {},
     "output_type": "execute_result"
    }
   ],
   "source": [
    "# What percent are unique?\n",
    "10138/2328315 * 100"
   ]
  },
  {
   "cell_type": "code",
   "execution_count": 23,
   "id": "67eebb99-65d6-4411-b2f7-17095381eae3",
   "metadata": {},
   "outputs": [
    {
     "data": {
      "text/plain": [
       "userId        0\n",
       "movieId       0\n",
       "tag          17\n",
       "timestamp     0\n",
       "dtype: int64"
      ]
     },
     "execution_count": 23,
     "metadata": {},
     "output_type": "execute_result"
    }
   ],
   "source": [
    "# Check for any null data\n",
    "df_tags.isnull().sum()"
   ]
  },
  {
   "cell_type": "code",
   "execution_count": 24,
   "id": "ad9de0c0-e6c6-4270-8c7e-30476db8e9d0",
   "metadata": {},
   "outputs": [],
   "source": [
    "# Minimal, let's just drop an nulls\n",
    "df_tags = df_tags.dropna()"
   ]
  },
  {
   "cell_type": "markdown",
   "id": "8d9ec62c-67c0-483b-ba6c-4eb93cc8bf62",
   "metadata": {},
   "source": [
    "## ratings.csv"
   ]
  },
  {
   "cell_type": "code",
   "execution_count": 26,
   "id": "e6dbf92d-b8fd-4577-bd72-ccbf53061724",
   "metadata": {},
   "outputs": [],
   "source": [
    "df_ratings = pd.read_csv('raw_data/ratings.csv')"
   ]
  },
  {
   "cell_type": "code",
   "execution_count": 27,
   "id": "ae0ab167-5f90-4884-9196-9e3c0dbdac47",
   "metadata": {},
   "outputs": [
    {
     "data": {
      "text/html": [
       "<div>\n",
       "<style scoped>\n",
       "    .dataframe tbody tr th:only-of-type {\n",
       "        vertical-align: middle;\n",
       "    }\n",
       "\n",
       "    .dataframe tbody tr th {\n",
       "        vertical-align: top;\n",
       "    }\n",
       "\n",
       "    .dataframe thead th {\n",
       "        text-align: right;\n",
       "    }\n",
       "</style>\n",
       "<table border=\"1\" class=\"dataframe\">\n",
       "  <thead>\n",
       "    <tr style=\"text-align: right;\">\n",
       "      <th></th>\n",
       "      <th>userId</th>\n",
       "      <th>movieId</th>\n",
       "      <th>rating</th>\n",
       "      <th>timestamp</th>\n",
       "    </tr>\n",
       "  </thead>\n",
       "  <tbody>\n",
       "    <tr>\n",
       "      <th>0</th>\n",
       "      <td>1</td>\n",
       "      <td>1</td>\n",
       "      <td>4.0</td>\n",
       "      <td>1225734739</td>\n",
       "    </tr>\n",
       "    <tr>\n",
       "      <th>1</th>\n",
       "      <td>1</td>\n",
       "      <td>110</td>\n",
       "      <td>4.0</td>\n",
       "      <td>1225865086</td>\n",
       "    </tr>\n",
       "    <tr>\n",
       "      <th>2</th>\n",
       "      <td>1</td>\n",
       "      <td>158</td>\n",
       "      <td>4.0</td>\n",
       "      <td>1225733503</td>\n",
       "    </tr>\n",
       "    <tr>\n",
       "      <th>3</th>\n",
       "      <td>1</td>\n",
       "      <td>260</td>\n",
       "      <td>4.5</td>\n",
       "      <td>1225735204</td>\n",
       "    </tr>\n",
       "    <tr>\n",
       "      <th>4</th>\n",
       "      <td>1</td>\n",
       "      <td>356</td>\n",
       "      <td>5.0</td>\n",
       "      <td>1225735119</td>\n",
       "    </tr>\n",
       "    <tr>\n",
       "      <th>...</th>\n",
       "      <td>...</td>\n",
       "      <td>...</td>\n",
       "      <td>...</td>\n",
       "      <td>...</td>\n",
       "    </tr>\n",
       "    <tr>\n",
       "      <th>33832157</th>\n",
       "      <td>330975</td>\n",
       "      <td>8340</td>\n",
       "      <td>2.0</td>\n",
       "      <td>1091583256</td>\n",
       "    </tr>\n",
       "    <tr>\n",
       "      <th>33832158</th>\n",
       "      <td>330975</td>\n",
       "      <td>8493</td>\n",
       "      <td>2.5</td>\n",
       "      <td>1091585709</td>\n",
       "    </tr>\n",
       "    <tr>\n",
       "      <th>33832159</th>\n",
       "      <td>330975</td>\n",
       "      <td>8622</td>\n",
       "      <td>4.0</td>\n",
       "      <td>1091581777</td>\n",
       "    </tr>\n",
       "    <tr>\n",
       "      <th>33832160</th>\n",
       "      <td>330975</td>\n",
       "      <td>8665</td>\n",
       "      <td>3.0</td>\n",
       "      <td>1091581765</td>\n",
       "    </tr>\n",
       "    <tr>\n",
       "      <th>33832161</th>\n",
       "      <td>330975</td>\n",
       "      <td>8783</td>\n",
       "      <td>2.5</td>\n",
       "      <td>1091581799</td>\n",
       "    </tr>\n",
       "  </tbody>\n",
       "</table>\n",
       "<p>33832162 rows × 4 columns</p>\n",
       "</div>"
      ],
      "text/plain": [
       "          userId  movieId  rating   timestamp\n",
       "0              1        1     4.0  1225734739\n",
       "1              1      110     4.0  1225865086\n",
       "2              1      158     4.0  1225733503\n",
       "3              1      260     4.5  1225735204\n",
       "4              1      356     5.0  1225735119\n",
       "...          ...      ...     ...         ...\n",
       "33832157  330975     8340     2.0  1091583256\n",
       "33832158  330975     8493     2.5  1091585709\n",
       "33832159  330975     8622     4.0  1091581777\n",
       "33832160  330975     8665     3.0  1091581765\n",
       "33832161  330975     8783     2.5  1091581799\n",
       "\n",
       "[33832162 rows x 4 columns]"
      ]
     },
     "execution_count": 27,
     "metadata": {},
     "output_type": "execute_result"
    }
   ],
   "source": [
    "df_ratings"
   ]
  },
  {
   "cell_type": "code",
   "execution_count": 28,
   "id": "8df3ee8f-af55-44e8-b336-7ab3e5670f7f",
   "metadata": {},
   "outputs": [
    {
     "data": {
      "text/plain": [
       "userId       0\n",
       "movieId      0\n",
       "rating       0\n",
       "timestamp    0\n",
       "dtype: int64"
      ]
     },
     "execution_count": 28,
     "metadata": {},
     "output_type": "execute_result"
    }
   ],
   "source": [
    "df_ratings.isnull().sum()"
   ]
  },
  {
   "cell_type": "markdown",
   "id": "0287b0b2-a91d-4c56-a7a6-be323b10b59e",
   "metadata": {},
   "source": [
    "## links.csv"
   ]
  },
  {
   "cell_type": "code",
   "execution_count": 31,
   "id": "295c9311-df5f-4e4a-954a-04b0e604f203",
   "metadata": {},
   "outputs": [],
   "source": [
    "df_links = pd.read_csv('raw_data/links.csv')"
   ]
  },
  {
   "cell_type": "code",
   "execution_count": 32,
   "id": "82cfda50-7163-4053-99fb-a7c21f6d026c",
   "metadata": {},
   "outputs": [
    {
     "data": {
      "text/html": [
       "<div>\n",
       "<style scoped>\n",
       "    .dataframe tbody tr th:only-of-type {\n",
       "        vertical-align: middle;\n",
       "    }\n",
       "\n",
       "    .dataframe tbody tr th {\n",
       "        vertical-align: top;\n",
       "    }\n",
       "\n",
       "    .dataframe thead th {\n",
       "        text-align: right;\n",
       "    }\n",
       "</style>\n",
       "<table border=\"1\" class=\"dataframe\">\n",
       "  <thead>\n",
       "    <tr style=\"text-align: right;\">\n",
       "      <th></th>\n",
       "      <th>movieId</th>\n",
       "      <th>imdbId</th>\n",
       "      <th>tmdbId</th>\n",
       "    </tr>\n",
       "  </thead>\n",
       "  <tbody>\n",
       "    <tr>\n",
       "      <th>0</th>\n",
       "      <td>1</td>\n",
       "      <td>114709</td>\n",
       "      <td>862.0</td>\n",
       "    </tr>\n",
       "    <tr>\n",
       "      <th>1</th>\n",
       "      <td>2</td>\n",
       "      <td>113497</td>\n",
       "      <td>8844.0</td>\n",
       "    </tr>\n",
       "    <tr>\n",
       "      <th>2</th>\n",
       "      <td>3</td>\n",
       "      <td>113228</td>\n",
       "      <td>15602.0</td>\n",
       "    </tr>\n",
       "    <tr>\n",
       "      <th>3</th>\n",
       "      <td>4</td>\n",
       "      <td>114885</td>\n",
       "      <td>31357.0</td>\n",
       "    </tr>\n",
       "    <tr>\n",
       "      <th>4</th>\n",
       "      <td>5</td>\n",
       "      <td>113041</td>\n",
       "      <td>11862.0</td>\n",
       "    </tr>\n",
       "    <tr>\n",
       "      <th>...</th>\n",
       "      <td>...</td>\n",
       "      <td>...</td>\n",
       "      <td>...</td>\n",
       "    </tr>\n",
       "    <tr>\n",
       "      <th>86532</th>\n",
       "      <td>288967</td>\n",
       "      <td>14418234</td>\n",
       "      <td>845861.0</td>\n",
       "    </tr>\n",
       "    <tr>\n",
       "      <th>86533</th>\n",
       "      <td>288971</td>\n",
       "      <td>11162178</td>\n",
       "      <td>878958.0</td>\n",
       "    </tr>\n",
       "    <tr>\n",
       "      <th>86534</th>\n",
       "      <td>288975</td>\n",
       "      <td>70199</td>\n",
       "      <td>150392.0</td>\n",
       "    </tr>\n",
       "    <tr>\n",
       "      <th>86535</th>\n",
       "      <td>288977</td>\n",
       "      <td>23050520</td>\n",
       "      <td>1102551.0</td>\n",
       "    </tr>\n",
       "    <tr>\n",
       "      <th>86536</th>\n",
       "      <td>288983</td>\n",
       "      <td>11644948</td>\n",
       "      <td>940588.0</td>\n",
       "    </tr>\n",
       "  </tbody>\n",
       "</table>\n",
       "<p>86537 rows × 3 columns</p>\n",
       "</div>"
      ],
      "text/plain": [
       "       movieId    imdbId     tmdbId\n",
       "0            1    114709      862.0\n",
       "1            2    113497     8844.0\n",
       "2            3    113228    15602.0\n",
       "3            4    114885    31357.0\n",
       "4            5    113041    11862.0\n",
       "...        ...       ...        ...\n",
       "86532   288967  14418234   845861.0\n",
       "86533   288971  11162178   878958.0\n",
       "86534   288975     70199   150392.0\n",
       "86535   288977  23050520  1102551.0\n",
       "86536   288983  11644948   940588.0\n",
       "\n",
       "[86537 rows x 3 columns]"
      ]
     },
     "execution_count": 32,
     "metadata": {},
     "output_type": "execute_result"
    }
   ],
   "source": [
    "df_links"
   ]
  },
  {
   "cell_type": "markdown",
   "id": "c26fbf3c-c392-497c-a851-e76f1260839f",
   "metadata": {},
   "source": [
    "## genome-tags.csv"
   ]
  },
  {
   "cell_type": "code",
   "execution_count": 34,
   "id": "2c0a2aca-07d7-4e61-b4dd-1b85b47fd120",
   "metadata": {},
   "outputs": [],
   "source": [
    "df_genometags = pd.read_csv('raw_data/genome-tags.csv')"
   ]
  },
  {
   "cell_type": "code",
   "execution_count": 35,
   "id": "6aee8dee-9534-49df-abd4-30a0e7d63f56",
   "metadata": {},
   "outputs": [
    {
     "data": {
      "text/html": [
       "<div>\n",
       "<style scoped>\n",
       "    .dataframe tbody tr th:only-of-type {\n",
       "        vertical-align: middle;\n",
       "    }\n",
       "\n",
       "    .dataframe tbody tr th {\n",
       "        vertical-align: top;\n",
       "    }\n",
       "\n",
       "    .dataframe thead th {\n",
       "        text-align: right;\n",
       "    }\n",
       "</style>\n",
       "<table border=\"1\" class=\"dataframe\">\n",
       "  <thead>\n",
       "    <tr style=\"text-align: right;\">\n",
       "      <th></th>\n",
       "      <th>tagId</th>\n",
       "      <th>tag</th>\n",
       "    </tr>\n",
       "  </thead>\n",
       "  <tbody>\n",
       "    <tr>\n",
       "      <th>0</th>\n",
       "      <td>1</td>\n",
       "      <td>007</td>\n",
       "    </tr>\n",
       "    <tr>\n",
       "      <th>1</th>\n",
       "      <td>2</td>\n",
       "      <td>007 (series)</td>\n",
       "    </tr>\n",
       "    <tr>\n",
       "      <th>2</th>\n",
       "      <td>3</td>\n",
       "      <td>18th century</td>\n",
       "    </tr>\n",
       "    <tr>\n",
       "      <th>3</th>\n",
       "      <td>4</td>\n",
       "      <td>1920s</td>\n",
       "    </tr>\n",
       "    <tr>\n",
       "      <th>4</th>\n",
       "      <td>5</td>\n",
       "      <td>1930s</td>\n",
       "    </tr>\n",
       "    <tr>\n",
       "      <th>...</th>\n",
       "      <td>...</td>\n",
       "      <td>...</td>\n",
       "    </tr>\n",
       "    <tr>\n",
       "      <th>1123</th>\n",
       "      <td>1124</td>\n",
       "      <td>writing</td>\n",
       "    </tr>\n",
       "    <tr>\n",
       "      <th>1124</th>\n",
       "      <td>1125</td>\n",
       "      <td>wuxia</td>\n",
       "    </tr>\n",
       "    <tr>\n",
       "      <th>1125</th>\n",
       "      <td>1126</td>\n",
       "      <td>wwii</td>\n",
       "    </tr>\n",
       "    <tr>\n",
       "      <th>1126</th>\n",
       "      <td>1127</td>\n",
       "      <td>zombie</td>\n",
       "    </tr>\n",
       "    <tr>\n",
       "      <th>1127</th>\n",
       "      <td>1128</td>\n",
       "      <td>zombies</td>\n",
       "    </tr>\n",
       "  </tbody>\n",
       "</table>\n",
       "<p>1128 rows × 2 columns</p>\n",
       "</div>"
      ],
      "text/plain": [
       "      tagId           tag\n",
       "0         1           007\n",
       "1         2  007 (series)\n",
       "2         3  18th century\n",
       "3         4         1920s\n",
       "4         5         1930s\n",
       "...     ...           ...\n",
       "1123   1124       writing\n",
       "1124   1125         wuxia\n",
       "1125   1126          wwii\n",
       "1126   1127        zombie\n",
       "1127   1128       zombies\n",
       "\n",
       "[1128 rows x 2 columns]"
      ]
     },
     "execution_count": 35,
     "metadata": {},
     "output_type": "execute_result"
    }
   ],
   "source": [
    "df_genometags"
   ]
  },
  {
   "cell_type": "code",
   "execution_count": 36,
   "id": "74894a3e-0f1e-4223-a55a-cdf300d87096",
   "metadata": {},
   "outputs": [
    {
     "data": {
      "text/plain": [
       "tagId    0\n",
       "tag      0\n",
       "dtype: int64"
      ]
     },
     "execution_count": 36,
     "metadata": {},
     "output_type": "execute_result"
    }
   ],
   "source": [
    "df_genometags.isnull().sum()"
   ]
  },
  {
   "cell_type": "code",
   "execution_count": 37,
   "id": "e984a119-8001-4a96-8d6f-bf6cd66de36f",
   "metadata": {},
   "outputs": [],
   "source": [
    "# Change tags to lowercase\n",
    "df_genometags['tag'] = df_genometags['tag'].str.lower()"
   ]
  },
  {
   "cell_type": "markdown",
   "id": "0799e6c6-0830-49c2-a36a-f1b9a4be6908",
   "metadata": {},
   "source": [
    "## genome-scores.csv "
   ]
  },
  {
   "cell_type": "code",
   "execution_count": 39,
   "id": "586a1ebf-d7ff-4bd0-a137-447c2570703c",
   "metadata": {},
   "outputs": [],
   "source": [
    "df_genomescores = pd.read_csv('raw_data/genome-scores.csv')"
   ]
  },
  {
   "cell_type": "code",
   "execution_count": 40,
   "id": "fa53c6e4-e662-43a0-afed-00097d773bd5",
   "metadata": {},
   "outputs": [
    {
     "data": {
      "text/html": [
       "<div>\n",
       "<style scoped>\n",
       "    .dataframe tbody tr th:only-of-type {\n",
       "        vertical-align: middle;\n",
       "    }\n",
       "\n",
       "    .dataframe tbody tr th {\n",
       "        vertical-align: top;\n",
       "    }\n",
       "\n",
       "    .dataframe thead th {\n",
       "        text-align: right;\n",
       "    }\n",
       "</style>\n",
       "<table border=\"1\" class=\"dataframe\">\n",
       "  <thead>\n",
       "    <tr style=\"text-align: right;\">\n",
       "      <th></th>\n",
       "      <th>movieId</th>\n",
       "      <th>tagId</th>\n",
       "      <th>relevance</th>\n",
       "    </tr>\n",
       "  </thead>\n",
       "  <tbody>\n",
       "    <tr>\n",
       "      <th>0</th>\n",
       "      <td>1</td>\n",
       "      <td>1</td>\n",
       "      <td>0.03200</td>\n",
       "    </tr>\n",
       "    <tr>\n",
       "      <th>1</th>\n",
       "      <td>1</td>\n",
       "      <td>2</td>\n",
       "      <td>0.02225</td>\n",
       "    </tr>\n",
       "    <tr>\n",
       "      <th>2</th>\n",
       "      <td>1</td>\n",
       "      <td>3</td>\n",
       "      <td>0.07000</td>\n",
       "    </tr>\n",
       "    <tr>\n",
       "      <th>3</th>\n",
       "      <td>1</td>\n",
       "      <td>4</td>\n",
       "      <td>0.05900</td>\n",
       "    </tr>\n",
       "    <tr>\n",
       "      <th>4</th>\n",
       "      <td>1</td>\n",
       "      <td>5</td>\n",
       "      <td>0.12300</td>\n",
       "    </tr>\n",
       "    <tr>\n",
       "      <th>...</th>\n",
       "      <td>...</td>\n",
       "      <td>...</td>\n",
       "      <td>...</td>\n",
       "    </tr>\n",
       "    <tr>\n",
       "      <th>18472123</th>\n",
       "      <td>288167</td>\n",
       "      <td>1124</td>\n",
       "      <td>0.09875</td>\n",
       "    </tr>\n",
       "    <tr>\n",
       "      <th>18472124</th>\n",
       "      <td>288167</td>\n",
       "      <td>1125</td>\n",
       "      <td>0.02950</td>\n",
       "    </tr>\n",
       "    <tr>\n",
       "      <th>18472125</th>\n",
       "      <td>288167</td>\n",
       "      <td>1126</td>\n",
       "      <td>0.02275</td>\n",
       "    </tr>\n",
       "    <tr>\n",
       "      <th>18472126</th>\n",
       "      <td>288167</td>\n",
       "      <td>1127</td>\n",
       "      <td>0.11225</td>\n",
       "    </tr>\n",
       "    <tr>\n",
       "      <th>18472127</th>\n",
       "      <td>288167</td>\n",
       "      <td>1128</td>\n",
       "      <td>0.03025</td>\n",
       "    </tr>\n",
       "  </tbody>\n",
       "</table>\n",
       "<p>18472128 rows × 3 columns</p>\n",
       "</div>"
      ],
      "text/plain": [
       "          movieId  tagId  relevance\n",
       "0               1      1    0.03200\n",
       "1               1      2    0.02225\n",
       "2               1      3    0.07000\n",
       "3               1      4    0.05900\n",
       "4               1      5    0.12300\n",
       "...           ...    ...        ...\n",
       "18472123   288167   1124    0.09875\n",
       "18472124   288167   1125    0.02950\n",
       "18472125   288167   1126    0.02275\n",
       "18472126   288167   1127    0.11225\n",
       "18472127   288167   1128    0.03025\n",
       "\n",
       "[18472128 rows x 3 columns]"
      ]
     },
     "execution_count": 40,
     "metadata": {},
     "output_type": "execute_result"
    }
   ],
   "source": [
    "df_genomescores"
   ]
  },
  {
   "cell_type": "code",
   "execution_count": 41,
   "id": "521a37df-7413-4e1a-baf2-b4924658a3a8",
   "metadata": {},
   "outputs": [
    {
     "data": {
      "text/plain": [
       "movieId      0\n",
       "tagId        0\n",
       "relevance    0\n",
       "dtype: int64"
      ]
     },
     "execution_count": 41,
     "metadata": {},
     "output_type": "execute_result"
    }
   ],
   "source": [
    "df_genomescores.isnull().sum()"
   ]
  },
  {
   "cell_type": "code",
   "execution_count": null,
   "id": "2e7b5abf-6440-42a3-90d2-f0257c350596",
   "metadata": {},
   "outputs": [],
   "source": []
  }
 ],
 "metadata": {
  "kernelspec": {
   "display_name": "Python 3 (ipykernel)",
   "language": "python",
   "name": "python3"
  },
  "language_info": {
   "codemirror_mode": {
    "name": "ipython",
    "version": 3
   },
   "file_extension": ".py",
   "mimetype": "text/x-python",
   "name": "python",
   "nbconvert_exporter": "python",
   "pygments_lexer": "ipython3",
   "version": "3.12.1"
  }
 },
 "nbformat": 4,
 "nbformat_minor": 5
}
