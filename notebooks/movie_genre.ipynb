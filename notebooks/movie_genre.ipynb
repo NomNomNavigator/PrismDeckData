{
 "cells": [
  {
   "cell_type": "markdown",
   "id": "e61fd433-fb02-4c82-910f-f0df952e95e0",
   "metadata": {},
   "source": [
    "# Create a csv for genres, one genre per row"
   ]
  },
  {
   "cell_type": "code",
   "execution_count": 18,
   "id": "2b4d8163-2355-4b2d-984e-8b541144a36c",
   "metadata": {},
   "outputs": [],
   "source": [
    "import pandas as pd\n",
    "from matplotlib import pyplot as plt"
   ]
  },
  {
   "cell_type": "code",
   "execution_count": 19,
   "id": "df727c37-ad67-4d1d-a23b-442f170ccef2",
   "metadata": {},
   "outputs": [],
   "source": [
    "# Genres are stored in movies.csv from the MovieLens data\n",
    "df_movies = pd.read_csv('raw_data/movies.csv')"
   ]
  },
  {
   "cell_type": "code",
   "execution_count": 20,
   "id": "eb7d0f26-0155-4065-b988-f0fd5b08c393",
   "metadata": {},
   "outputs": [],
   "source": [
    "# Create df of just movieid and genre\n",
    "df_genres = df_movies[['movieId','genres']]"
   ]
  },
  {
   "cell_type": "code",
   "execution_count": 21,
   "id": "27fb5a15-eb15-441d-8465-846240180cb5",
   "metadata": {},
   "outputs": [
    {
     "data": {
      "text/html": [
       "<div>\n",
       "<style scoped>\n",
       "    .dataframe tbody tr th:only-of-type {\n",
       "        vertical-align: middle;\n",
       "    }\n",
       "\n",
       "    .dataframe tbody tr th {\n",
       "        vertical-align: top;\n",
       "    }\n",
       "\n",
       "    .dataframe thead th {\n",
       "        text-align: right;\n",
       "    }\n",
       "</style>\n",
       "<table border=\"1\" class=\"dataframe\">\n",
       "  <thead>\n",
       "    <tr style=\"text-align: right;\">\n",
       "      <th></th>\n",
       "      <th>movieId</th>\n",
       "      <th>genres</th>\n",
       "    </tr>\n",
       "  </thead>\n",
       "  <tbody>\n",
       "    <tr>\n",
       "      <th>0</th>\n",
       "      <td>1</td>\n",
       "      <td>Adventure|Animation|Children|Comedy|Fantasy</td>\n",
       "    </tr>\n",
       "    <tr>\n",
       "      <th>1</th>\n",
       "      <td>2</td>\n",
       "      <td>Adventure|Children|Fantasy</td>\n",
       "    </tr>\n",
       "    <tr>\n",
       "      <th>2</th>\n",
       "      <td>3</td>\n",
       "      <td>Comedy|Romance</td>\n",
       "    </tr>\n",
       "    <tr>\n",
       "      <th>3</th>\n",
       "      <td>4</td>\n",
       "      <td>Comedy|Drama|Romance</td>\n",
       "    </tr>\n",
       "    <tr>\n",
       "      <th>4</th>\n",
       "      <td>5</td>\n",
       "      <td>Comedy</td>\n",
       "    </tr>\n",
       "    <tr>\n",
       "      <th>...</th>\n",
       "      <td>...</td>\n",
       "      <td>...</td>\n",
       "    </tr>\n",
       "    <tr>\n",
       "      <th>86532</th>\n",
       "      <td>288967</td>\n",
       "      <td>Action|Drama</td>\n",
       "    </tr>\n",
       "    <tr>\n",
       "      <th>86533</th>\n",
       "      <td>288971</td>\n",
       "      <td>Action|Horror</td>\n",
       "    </tr>\n",
       "    <tr>\n",
       "      <th>86534</th>\n",
       "      <td>288975</td>\n",
       "      <td>Documentary</td>\n",
       "    </tr>\n",
       "    <tr>\n",
       "      <th>86535</th>\n",
       "      <td>288977</td>\n",
       "      <td>Crime|Thriller</td>\n",
       "    </tr>\n",
       "    <tr>\n",
       "      <th>86536</th>\n",
       "      <td>288983</td>\n",
       "      <td>Documentary</td>\n",
       "    </tr>\n",
       "  </tbody>\n",
       "</table>\n",
       "<p>86537 rows × 2 columns</p>\n",
       "</div>"
      ],
      "text/plain": [
       "       movieId                                       genres\n",
       "0            1  Adventure|Animation|Children|Comedy|Fantasy\n",
       "1            2                   Adventure|Children|Fantasy\n",
       "2            3                               Comedy|Romance\n",
       "3            4                         Comedy|Drama|Romance\n",
       "4            5                                       Comedy\n",
       "...        ...                                          ...\n",
       "86532   288967                                 Action|Drama\n",
       "86533   288971                                Action|Horror\n",
       "86534   288975                                  Documentary\n",
       "86535   288977                               Crime|Thriller\n",
       "86536   288983                                  Documentary\n",
       "\n",
       "[86537 rows x 2 columns]"
      ]
     },
     "execution_count": 21,
     "metadata": {},
     "output_type": "execute_result"
    }
   ],
   "source": [
    "df_genres"
   ]
  },
  {
   "cell_type": "code",
   "execution_count": 22,
   "id": "f66979d9-45f1-459c-9e11-879b953ab9f0",
   "metadata": {},
   "outputs": [],
   "source": [
    "# Each movie can multiple genres, seperated by \"|\". We want one genre per row for our model.\n",
    "# Below creates a list of dictionaries of id and genre, which is then made into a df.\n",
    "\n",
    "new_rows = []\n",
    "for _, row in df_genres.iterrows():\n",
    "    movie_id = row['movieId']\n",
    "    genres = row['genres'].split('|')\n",
    "    for genre in genres:\n",
    "        new_rows.append({'movieId': movie_id, 'genre': genre})"
   ]
  },
  {
   "cell_type": "code",
   "execution_count": 23,
   "id": "7bd10959-b4f9-400f-84cf-8efe05fca8d6",
   "metadata": {},
   "outputs": [],
   "source": [
    "new_df = pd.DataFrame(new_rows)"
   ]
  },
  {
   "cell_type": "code",
   "execution_count": 24,
   "id": "186c66e0-0daf-414a-8ebd-46d4aade2ea3",
   "metadata": {},
   "outputs": [],
   "source": [
    "# The three below cells are for formatting purposes\n",
    "new_df.index.name='id'"
   ]
  },
  {
   "cell_type": "code",
   "execution_count": 25,
   "id": "c6e59bfd-4476-4b58-b652-bdbc437c6850",
   "metadata": {},
   "outputs": [],
   "source": [
    "new_df = new_df.rename(columns={\"movieId\": \"movie_id\"})"
   ]
  },
  {
   "cell_type": "code",
   "execution_count": 26,
   "id": "f39e8b69-4412-4c78-a0ff-7b45b915d234",
   "metadata": {},
   "outputs": [],
   "source": [
    "new_df['genre'] = new_df['genre'].str.lower()"
   ]
  },
  {
   "cell_type": "code",
   "execution_count": 27,
   "id": "55942ca0-1919-4b67-bc97-db77cb26fa2b",
   "metadata": {},
   "outputs": [
    {
     "data": {
      "text/html": [
       "<div>\n",
       "<style scoped>\n",
       "    .dataframe tbody tr th:only-of-type {\n",
       "        vertical-align: middle;\n",
       "    }\n",
       "\n",
       "    .dataframe tbody tr th {\n",
       "        vertical-align: top;\n",
       "    }\n",
       "\n",
       "    .dataframe thead th {\n",
       "        text-align: right;\n",
       "    }\n",
       "</style>\n",
       "<table border=\"1\" class=\"dataframe\">\n",
       "  <thead>\n",
       "    <tr style=\"text-align: right;\">\n",
       "      <th></th>\n",
       "      <th>movie_id</th>\n",
       "      <th>genre</th>\n",
       "    </tr>\n",
       "    <tr>\n",
       "      <th>id</th>\n",
       "      <th></th>\n",
       "      <th></th>\n",
       "    </tr>\n",
       "  </thead>\n",
       "  <tbody>\n",
       "    <tr>\n",
       "      <th>0</th>\n",
       "      <td>1</td>\n",
       "      <td>adventure</td>\n",
       "    </tr>\n",
       "    <tr>\n",
       "      <th>1</th>\n",
       "      <td>1</td>\n",
       "      <td>animation</td>\n",
       "    </tr>\n",
       "    <tr>\n",
       "      <th>2</th>\n",
       "      <td>1</td>\n",
       "      <td>children</td>\n",
       "    </tr>\n",
       "    <tr>\n",
       "      <th>3</th>\n",
       "      <td>1</td>\n",
       "      <td>comedy</td>\n",
       "    </tr>\n",
       "    <tr>\n",
       "      <th>4</th>\n",
       "      <td>1</td>\n",
       "      <td>fantasy</td>\n",
       "    </tr>\n",
       "    <tr>\n",
       "      <th>...</th>\n",
       "      <td>...</td>\n",
       "      <td>...</td>\n",
       "    </tr>\n",
       "    <tr>\n",
       "      <th>152283</th>\n",
       "      <td>288971</td>\n",
       "      <td>horror</td>\n",
       "    </tr>\n",
       "    <tr>\n",
       "      <th>152284</th>\n",
       "      <td>288975</td>\n",
       "      <td>documentary</td>\n",
       "    </tr>\n",
       "    <tr>\n",
       "      <th>152285</th>\n",
       "      <td>288977</td>\n",
       "      <td>crime</td>\n",
       "    </tr>\n",
       "    <tr>\n",
       "      <th>152286</th>\n",
       "      <td>288977</td>\n",
       "      <td>thriller</td>\n",
       "    </tr>\n",
       "    <tr>\n",
       "      <th>152287</th>\n",
       "      <td>288983</td>\n",
       "      <td>documentary</td>\n",
       "    </tr>\n",
       "  </tbody>\n",
       "</table>\n",
       "<p>152288 rows × 2 columns</p>\n",
       "</div>"
      ],
      "text/plain": [
       "        movie_id        genre\n",
       "id                           \n",
       "0              1    adventure\n",
       "1              1    animation\n",
       "2              1     children\n",
       "3              1       comedy\n",
       "4              1      fantasy\n",
       "...          ...          ...\n",
       "152283    288971       horror\n",
       "152284    288975  documentary\n",
       "152285    288977        crime\n",
       "152286    288977     thriller\n",
       "152287    288983  documentary\n",
       "\n",
       "[152288 rows x 2 columns]"
      ]
     },
     "execution_count": 27,
     "metadata": {},
     "output_type": "execute_result"
    }
   ],
   "source": [
    "new_df"
   ]
  },
  {
   "cell_type": "code",
   "execution_count": 13,
   "id": "2021e9cf-9c72-4d12-99f5-4de7093f9419",
   "metadata": {},
   "outputs": [],
   "source": [
    "# Uncomment if needed to write the csv file\n",
    "# new_df.to_csv('DB_models/DB_genres.csv')"
   ]
  },
  {
   "cell_type": "code",
   "execution_count": null,
   "id": "59b76592-761f-4d3f-bc07-c88165d9efba",
   "metadata": {},
   "outputs": [],
   "source": []
  },
  {
   "cell_type": "code",
   "execution_count": null,
   "id": "009408c7-5774-4190-82e8-0b022cf32125",
   "metadata": {},
   "outputs": [],
   "source": []
  }
 ],
 "metadata": {
  "kernelspec": {
   "display_name": "Python 3 (ipykernel)",
   "language": "python",
   "name": "python3"
  },
  "language_info": {
   "codemirror_mode": {
    "name": "ipython",
    "version": 3
   },
   "file_extension": ".py",
   "mimetype": "text/x-python",
   "name": "python",
   "nbconvert_exporter": "python",
   "pygments_lexer": "ipython3",
   "version": "3.12.1"
  }
 },
 "nbformat": 4,
 "nbformat_minor": 5
}
